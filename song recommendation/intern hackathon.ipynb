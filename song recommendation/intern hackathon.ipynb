{
 "cells": [
  {
   "cell_type": "markdown",
   "metadata": {},
   "source": [
    "# Introduction\n",
    "##### "
   ]
  },
  {
   "cell_type": "markdown",
   "metadata": {},
   "source": [
    "### Getting started with regular imports"
   ]
  },
  {
   "cell_type": "code",
   "execution_count": 1,
   "metadata": {
    "collapsed": true
   },
   "outputs": [],
   "source": [
    "import pandas as pd\n",
    "import matplotlib.pyplot as plt\n",
    "%matplotlib inline"
   ]
  },
  {
   "cell_type": "code",
   "execution_count": 2,
   "metadata": {
    "collapsed": true
   },
   "outputs": [],
   "source": [
    "import numpy as np"
   ]
  },
  {
   "cell_type": "code",
   "execution_count": 3,
   "metadata": {
    "collapsed": true
   },
   "outputs": [],
   "source": [
    "df = pd.read_csv(\"C:/Users/HP/Desktop/intern hackathon/train_yhC5guX/train.csv\")"
   ]
  },
  {
   "cell_type": "code",
   "execution_count": 4,
   "metadata": {},
   "outputs": [
    {
     "data": {
      "text/plain": [
       "(1053908, 16)"
      ]
     },
     "execution_count": 4,
     "metadata": {},
     "output_type": "execute_result"
    }
   ],
   "source": [
    "df.shape"
   ]
  },
  {
   "cell_type": "code",
   "execution_count": null,
   "metadata": {
    "collapsed": true
   },
   "outputs": [],
   "source": [
    "json = pd.read_json(\"C:/Users/HP/Desktop/intern hackathon/train_yhC5guX/extra_infos.json\",lines=True)"
   ]
  },
  {
   "cell_type": "code",
   "execution_count": 6,
   "metadata": {},
   "outputs": [
    {
     "data": {
      "text/plain": [
       "2047     70\n",
       "3454     70\n",
       "7555     70\n",
       "5506     70\n",
       "3457     70\n",
       "1408     70\n",
       "12678    70\n",
       "10629    70\n",
       "8580     70\n",
       "6531     70\n",
       "4482     70\n",
       "2433     70\n",
       "384      70\n",
       "1407     70\n",
       "5501     70\n",
       "5500     70\n",
       "7548     70\n",
       "9595     70\n",
       "11642    70\n",
       "383      70\n",
       "2430     70\n",
       "4477     70\n",
       "6524     70\n",
       "8571     70\n",
       "10618    70\n",
       "12665    70\n",
       "3455     70\n",
       "1406     70\n",
       "9604     70\n",
       "11653    70\n",
       "         ..\n",
       "17249     1\n",
       "17239     1\n",
       "17224     1\n",
       "17269     1\n",
       "17245     1\n",
       "17250     1\n",
       "17273     1\n",
       "17225     1\n",
       "17280     1\n",
       "17244     1\n",
       "17268     1\n",
       "17209     1\n",
       "17226     1\n",
       "17281     1\n",
       "17215     1\n",
       "17214     1\n",
       "17274     1\n",
       "17227     1\n",
       "17282     1\n",
       "17256     1\n",
       "17242     1\n",
       "17283     1\n",
       "17228     1\n",
       "17267     1\n",
       "17275     1\n",
       "17248     1\n",
       "17229     1\n",
       "17257     1\n",
       "17241     1\n",
       "17243     1\n",
       "Name: user_id, Length: 17288, dtype: int64"
      ]
     },
     "execution_count": 6,
     "metadata": {},
     "output_type": "execute_result"
    }
   ],
   "source": [
    "df.user_id.value_counts()"
   ]
  },
  {
   "cell_type": "code",
   "execution_count": 283,
   "metadata": {},
   "outputs": [
    {
     "data": {
      "text/plain": [
       "0         573063\n",
       "7         114072\n",
       "10         35370\n",
       "25         32511\n",
       "27         24811\n",
       "14         21377\n",
       "734        16644\n",
       "297        16545\n",
       "77         12511\n",
       "2744       11632\n",
       "50          9787\n",
       "3           9205\n",
       "1130        8580\n",
       "3645        8326\n",
       "18          8292\n",
       "421         7917\n",
       "1           5697\n",
       "1106        5595\n",
       "9           5494\n",
       "25481       4562\n",
       "109         4079\n",
       "745         3654\n",
       "25471       2819\n",
       "2           2565\n",
       "17          2546\n",
       "1175        2227\n",
       "82          2166\n",
       "723         2099\n",
       "2794        2012\n",
       "171         2004\n",
       "           ...  \n",
       "27401          1\n",
       "4491           1\n",
       "107965         1\n",
       "9378           1\n",
       "101801         1\n",
       "76221          1\n",
       "14751          1\n",
       "58261          1\n",
       "125355         1\n",
       "112035         1\n",
       "10114          1\n",
       "27531          1\n",
       "405            1\n",
       "2204           1\n",
       "163291         1\n",
       "404            1\n",
       "65971          1\n",
       "109365         1\n",
       "30111          1\n",
       "132035         1\n",
       "401            1\n",
       "1185           1\n",
       "121785         1\n",
       "117915         1\n",
       "42901          1\n",
       "770            1\n",
       "396            1\n",
       "3966           1\n",
       "6309           1\n",
       "6792           1\n",
       "Name: genre_id, Length: 1788, dtype: int64"
      ]
     },
     "execution_count": 283,
     "metadata": {},
     "output_type": "execute_result"
    }
   ],
   "source": [
    "df.genre_id.value_counts()"
   ]
  },
  {
   "cell_type": "code",
   "execution_count": 81,
   "metadata": {},
   "outputs": [
    {
     "data": {
      "text/html": [
       "<div>\n",
       "<style>\n",
       "    .dataframe thead tr:only-child th {\n",
       "        text-align: right;\n",
       "    }\n",
       "\n",
       "    .dataframe thead th {\n",
       "        text-align: left;\n",
       "    }\n",
       "\n",
       "    .dataframe tbody tr th {\n",
       "        vertical-align: top;\n",
       "    }\n",
       "</style>\n",
       "<table border=\"1\" class=\"dataframe\">\n",
       "  <thead>\n",
       "    <tr style=\"text-align: right;\">\n",
       "      <th></th>\n",
       "      <th>genre_id</th>\n",
       "      <th>media_id</th>\n",
       "      <th>album_id</th>\n",
       "      <th>context_type</th>\n",
       "      <th>release_date</th>\n",
       "      <th>platform_name</th>\n",
       "      <th>platform_family</th>\n",
       "      <th>media_duration</th>\n",
       "      <th>listen_type</th>\n",
       "      <th>user_gender</th>\n",
       "      <th>user_id</th>\n",
       "      <th>artist_id</th>\n",
       "      <th>user_age</th>\n",
       "      <th>is_listened</th>\n",
       "      <th>ID</th>\n",
       "      <th>train</th>\n",
       "      <th>fresh</th>\n",
       "    </tr>\n",
       "  </thead>\n",
       "  <tbody>\n",
       "    <tr>\n",
       "      <th>count</th>\n",
       "      <td>1.053908e+06</td>\n",
       "      <td>1.053908e+06</td>\n",
       "      <td>1.053908e+06</td>\n",
       "      <td>1.053908e+06</td>\n",
       "      <td>1.053908e+06</td>\n",
       "      <td>1.053908e+06</td>\n",
       "      <td>1.053908e+06</td>\n",
       "      <td>1.053908e+06</td>\n",
       "      <td>1.053908e+06</td>\n",
       "      <td>1.053908e+06</td>\n",
       "      <td>1.053908e+06</td>\n",
       "      <td>1.053908e+06</td>\n",
       "      <td>1.053908e+06</td>\n",
       "      <td>1.053908e+06</td>\n",
       "      <td>1.053908e+06</td>\n",
       "      <td>1053908.0</td>\n",
       "      <td>1.053908e+06</td>\n",
       "    </tr>\n",
       "    <tr>\n",
       "      <th>mean</th>\n",
       "      <td>2.028295e+03</td>\n",
       "      <td>8.436473e+07</td>\n",
       "      <td>8.779941e+06</td>\n",
       "      <td>2.352846e+00</td>\n",
       "      <td>2.011952e+07</td>\n",
       "      <td>4.647787e-01</td>\n",
       "      <td>2.042882e-01</td>\n",
       "      <td>2.295715e+02</td>\n",
       "      <td>2.437594e-01</td>\n",
       "      <td>4.238491e-01</td>\n",
       "      <td>7.571911e+03</td>\n",
       "      <td>1.632341e+06</td>\n",
       "      <td>2.403227e+01</td>\n",
       "      <td>6.688914e-01</td>\n",
       "      <td>5.269535e+05</td>\n",
       "      <td>1.0</td>\n",
       "      <td>7.910766e-01</td>\n",
       "    </tr>\n",
       "    <tr>\n",
       "      <th>std</th>\n",
       "      <td>1.249672e+04</td>\n",
       "      <td>5.041447e+07</td>\n",
       "      <td>5.375867e+06</td>\n",
       "      <td>4.677338e+00</td>\n",
       "      <td>7.346577e+04</td>\n",
       "      <td>6.786067e-01</td>\n",
       "      <td>5.108517e-01</td>\n",
       "      <td>7.450526e+01</td>\n",
       "      <td>4.293494e-01</td>\n",
       "      <td>4.941673e-01</td>\n",
       "      <td>4.423265e+03</td>\n",
       "      <td>2.603378e+06</td>\n",
       "      <td>3.841988e+00</td>\n",
       "      <td>4.706123e-01</td>\n",
       "      <td>3.042372e+05</td>\n",
       "      <td>0.0</td>\n",
       "      <td>4.065397e-01</td>\n",
       "    </tr>\n",
       "    <tr>\n",
       "      <th>min</th>\n",
       "      <td>0.000000e+00</td>\n",
       "      <td>2.002240e+05</td>\n",
       "      <td>1.976000e+03</td>\n",
       "      <td>0.000000e+00</td>\n",
       "      <td>1.900010e+07</td>\n",
       "      <td>0.000000e+00</td>\n",
       "      <td>0.000000e+00</td>\n",
       "      <td>0.000000e+00</td>\n",
       "      <td>0.000000e+00</td>\n",
       "      <td>0.000000e+00</td>\n",
       "      <td>0.000000e+00</td>\n",
       "      <td>1.000000e+00</td>\n",
       "      <td>1.800000e+01</td>\n",
       "      <td>0.000000e+00</td>\n",
       "      <td>0.000000e+00</td>\n",
       "      <td>1.0</td>\n",
       "      <td>0.000000e+00</td>\n",
       "    </tr>\n",
       "    <tr>\n",
       "      <th>25%</th>\n",
       "      <td>0.000000e+00</td>\n",
       "      <td>2.919206e+07</td>\n",
       "      <td>2.690478e+06</td>\n",
       "      <td>0.000000e+00</td>\n",
       "      <td>2.011012e+07</td>\n",
       "      <td>0.000000e+00</td>\n",
       "      <td>0.000000e+00</td>\n",
       "      <td>1.950000e+02</td>\n",
       "      <td>0.000000e+00</td>\n",
       "      <td>0.000000e+00</td>\n",
       "      <td>3.763000e+03</td>\n",
       "      <td>3.469000e+03</td>\n",
       "      <td>2.100000e+01</td>\n",
       "      <td>0.000000e+00</td>\n",
       "      <td>2.634768e+05</td>\n",
       "      <td>1.0</td>\n",
       "      <td>1.000000e+00</td>\n",
       "    </tr>\n",
       "    <tr>\n",
       "      <th>50%</th>\n",
       "      <td>0.000000e+00</td>\n",
       "      <td>1.047823e+08</td>\n",
       "      <td>1.090846e+07</td>\n",
       "      <td>1.000000e+00</td>\n",
       "      <td>2.015060e+07</td>\n",
       "      <td>0.000000e+00</td>\n",
       "      <td>0.000000e+00</td>\n",
       "      <td>2.200000e+02</td>\n",
       "      <td>0.000000e+00</td>\n",
       "      <td>0.000000e+00</td>\n",
       "      <td>7.527000e+03</td>\n",
       "      <td>2.719220e+05</td>\n",
       "      <td>2.400000e+01</td>\n",
       "      <td>1.000000e+00</td>\n",
       "      <td>5.269535e+05</td>\n",
       "      <td>1.0</td>\n",
       "      <td>1.000000e+00</td>\n",
       "    </tr>\n",
       "    <tr>\n",
       "      <th>75%</th>\n",
       "      <td>2.500000e+01</td>\n",
       "      <td>1.289480e+08</td>\n",
       "      <td>1.363282e+07</td>\n",
       "      <td>2.000000e+00</td>\n",
       "      <td>2.016072e+07</td>\n",
       "      <td>1.000000e+00</td>\n",
       "      <td>0.000000e+00</td>\n",
       "      <td>2.520000e+02</td>\n",
       "      <td>0.000000e+00</td>\n",
       "      <td>1.000000e+00</td>\n",
       "      <td>1.129100e+04</td>\n",
       "      <td>1.519461e+06</td>\n",
       "      <td>2.700000e+01</td>\n",
       "      <td>1.000000e+00</td>\n",
       "      <td>7.904302e+05</td>\n",
       "      <td>1.0</td>\n",
       "      <td>1.000000e+00</td>\n",
       "    </tr>\n",
       "    <tr>\n",
       "      <th>max</th>\n",
       "      <td>2.595010e+05</td>\n",
       "      <td>1.371489e+08</td>\n",
       "      <td>1.470623e+07</td>\n",
       "      <td>7.300000e+01</td>\n",
       "      <td>3.000010e+07</td>\n",
       "      <td>2.000000e+00</td>\n",
       "      <td>2.000000e+00</td>\n",
       "      <td>9.158000e+03</td>\n",
       "      <td>1.000000e+00</td>\n",
       "      <td>1.000000e+00</td>\n",
       "      <td>1.728700e+04</td>\n",
       "      <td>1.142778e+07</td>\n",
       "      <td>3.000000e+01</td>\n",
       "      <td>1.000000e+00</td>\n",
       "      <td>1.053907e+06</td>\n",
       "      <td>1.0</td>\n",
       "      <td>1.000000e+00</td>\n",
       "    </tr>\n",
       "  </tbody>\n",
       "</table>\n",
       "</div>"
      ],
      "text/plain": [
       "           genre_id      media_id      album_id  context_type  release_date  \\\n",
       "count  1.053908e+06  1.053908e+06  1.053908e+06  1.053908e+06  1.053908e+06   \n",
       "mean   2.028295e+03  8.436473e+07  8.779941e+06  2.352846e+00  2.011952e+07   \n",
       "std    1.249672e+04  5.041447e+07  5.375867e+06  4.677338e+00  7.346577e+04   \n",
       "min    0.000000e+00  2.002240e+05  1.976000e+03  0.000000e+00  1.900010e+07   \n",
       "25%    0.000000e+00  2.919206e+07  2.690478e+06  0.000000e+00  2.011012e+07   \n",
       "50%    0.000000e+00  1.047823e+08  1.090846e+07  1.000000e+00  2.015060e+07   \n",
       "75%    2.500000e+01  1.289480e+08  1.363282e+07  2.000000e+00  2.016072e+07   \n",
       "max    2.595010e+05  1.371489e+08  1.470623e+07  7.300000e+01  3.000010e+07   \n",
       "\n",
       "       platform_name  platform_family  media_duration   listen_type  \\\n",
       "count   1.053908e+06     1.053908e+06    1.053908e+06  1.053908e+06   \n",
       "mean    4.647787e-01     2.042882e-01    2.295715e+02  2.437594e-01   \n",
       "std     6.786067e-01     5.108517e-01    7.450526e+01  4.293494e-01   \n",
       "min     0.000000e+00     0.000000e+00    0.000000e+00  0.000000e+00   \n",
       "25%     0.000000e+00     0.000000e+00    1.950000e+02  0.000000e+00   \n",
       "50%     0.000000e+00     0.000000e+00    2.200000e+02  0.000000e+00   \n",
       "75%     1.000000e+00     0.000000e+00    2.520000e+02  0.000000e+00   \n",
       "max     2.000000e+00     2.000000e+00    9.158000e+03  1.000000e+00   \n",
       "\n",
       "        user_gender       user_id     artist_id      user_age   is_listened  \\\n",
       "count  1.053908e+06  1.053908e+06  1.053908e+06  1.053908e+06  1.053908e+06   \n",
       "mean   4.238491e-01  7.571911e+03  1.632341e+06  2.403227e+01  6.688914e-01   \n",
       "std    4.941673e-01  4.423265e+03  2.603378e+06  3.841988e+00  4.706123e-01   \n",
       "min    0.000000e+00  0.000000e+00  1.000000e+00  1.800000e+01  0.000000e+00   \n",
       "25%    0.000000e+00  3.763000e+03  3.469000e+03  2.100000e+01  0.000000e+00   \n",
       "50%    0.000000e+00  7.527000e+03  2.719220e+05  2.400000e+01  1.000000e+00   \n",
       "75%    1.000000e+00  1.129100e+04  1.519461e+06  2.700000e+01  1.000000e+00   \n",
       "max    1.000000e+00  1.728700e+04  1.142778e+07  3.000000e+01  1.000000e+00   \n",
       "\n",
       "                 ID      train         fresh  \n",
       "count  1.053908e+06  1053908.0  1.053908e+06  \n",
       "mean   5.269535e+05        1.0  7.910766e-01  \n",
       "std    3.042372e+05        0.0  4.065397e-01  \n",
       "min    0.000000e+00        1.0  0.000000e+00  \n",
       "25%    2.634768e+05        1.0  1.000000e+00  \n",
       "50%    5.269535e+05        1.0  1.000000e+00  \n",
       "75%    7.904302e+05        1.0  1.000000e+00  \n",
       "max    1.053907e+06        1.0  1.000000e+00  "
      ]
     },
     "execution_count": 81,
     "metadata": {},
     "output_type": "execute_result"
    }
   ],
   "source": [
    "df.describe()"
   ]
  },
  {
   "cell_type": "code",
   "execution_count": null,
   "metadata": {
    "collapsed": true
   },
   "outputs": [],
   "source": [
    "json"
   ]
  },
  {
   "cell_type": "code",
   "execution_count": null,
   "metadata": {
    "collapsed": true
   },
   "outputs": [],
   "source": [
    "df.media_id.value_counts()"
   ]
  },
  {
   "cell_type": "code",
   "execution_count": null,
   "metadata": {
    "collapsed": true
   },
   "outputs": [],
   "source": [
    "df.context_type.value_counts()"
   ]
  },
  {
   "cell_type": "code",
   "execution_count": null,
   "metadata": {
    "collapsed": true
   },
   "outputs": [],
   "source": [
    "df.platform_name.value_counts()"
   ]
  },
  {
   "cell_type": "code",
   "execution_count": null,
   "metadata": {
    "collapsed": true
   },
   "outputs": [],
   "source": [
    "df.platform_family.value_counts()"
   ]
  },
  {
   "cell_type": "code",
   "execution_count": null,
   "metadata": {
    "collapsed": true
   },
   "outputs": [],
   "source": [
    "df.listen_type.value_counts()"
   ]
  },
  {
   "cell_type": "code",
   "execution_count": null,
   "metadata": {
    "collapsed": true
   },
   "outputs": [],
   "source": [
    "\n",
    "df.artist_id.value_counts()"
   ]
  },
  {
   "cell_type": "code",
   "execution_count": null,
   "metadata": {
    "collapsed": true
   },
   "outputs": [],
   "source": [
    "df.head()"
   ]
  },
  {
   "cell_type": "code",
   "execution_count": 6,
   "metadata": {
    "collapsed": true
   },
   "outputs": [],
   "source": [
    "test = pd.read_csv(\"C:/Users/HP/Desktop/intern hackathon/test_Dlahabb/test.csv\")"
   ]
  },
  {
   "cell_type": "code",
   "execution_count": null,
   "metadata": {
    "collapsed": true
   },
   "outputs": [],
   "source": [
    "test.shape"
   ]
  },
  {
   "cell_type": "code",
   "execution_count": null,
   "metadata": {
    "collapsed": true
   },
   "outputs": [],
   "source": [
    "test.user_id.value_counts()"
   ]
  },
  {
   "cell_type": "markdown",
   "metadata": {},
   "source": [
    "## model building starts here"
   ]
  },
  {
   "cell_type": "code",
   "execution_count": 7,
   "metadata": {
    "collapsed": true
   },
   "outputs": [],
   "source": [
    "grouped =  df.sort_values(['user_id','ts_listen'])\n",
    "grouped =  grouped.groupby(grouped.user_id)"
   ]
  },
  {
   "cell_type": "code",
   "execution_count": 8,
   "metadata": {
    "collapsed": true
   },
   "outputs": [],
   "source": [
    "user_intersection = (np.intersect1d(df['user_id'],test['user_id']))"
   ]
  },
  {
   "cell_type": "code",
   "execution_count": 9,
   "metadata": {},
   "outputs": [
    {
     "data": {
      "text/plain": [
       "array([    0,     1,     2, ..., 17285, 17286, 17287], dtype=int64)"
      ]
     },
     "execution_count": 9,
     "metadata": {},
     "output_type": "execute_result"
    }
   ],
   "source": [
    "user_intersection"
   ]
  },
  {
   "cell_type": "code",
   "execution_count": 10,
   "metadata": {},
   "outputs": [
    {
     "data": {
      "text/plain": [
       "17288"
      ]
     },
     "execution_count": 10,
     "metadata": {},
     "output_type": "execute_result"
    }
   ],
   "source": [
    "len(user_intersection)"
   ]
  },
  {
   "cell_type": "code",
   "execution_count": 11,
   "metadata": {},
   "outputs": [
    {
     "data": {
      "text/plain": [
       "(486314, 16)"
      ]
     },
     "execution_count": 11,
     "metadata": {},
     "output_type": "execute_result"
    }
   ],
   "source": [
    "df_cv = grouped.tail(30)\n",
    "df_cv.shape"
   ]
  },
  {
   "cell_type": "code",
   "execution_count": 12,
   "metadata": {
    "collapsed": true
   },
   "outputs": [],
   "source": [
    "droplist = list(df_cv.ID)"
   ]
  },
  {
   "cell_type": "code",
   "execution_count": 114,
   "metadata": {
    "collapsed": true
   },
   "outputs": [],
   "source": [
    "df_cv['fresh'] = fresh_train[droplist]"
   ]
  },
  {
   "cell_type": "code",
   "execution_count": 115,
   "metadata": {
    "collapsed": true
   },
   "outputs": [],
   "source": [
    "df_train['fresh'] = fresh_train.drop(droplist)"
   ]
  },
  {
   "cell_type": "code",
   "execution_count": null,
   "metadata": {
    "collapsed": true
   },
   "outputs": [],
   "source": []
  },
  {
   "cell_type": "code",
   "execution_count": 13,
   "metadata": {
    "collapsed": true
   },
   "outputs": [],
   "source": [
    "df_train = df.drop(droplist)"
   ]
  },
  {
   "cell_type": "code",
   "execution_count": 12,
   "metadata": {
    "collapsed": true
   },
   "outputs": [],
   "source": [
    "from sklearn.ensemble import RandomForestClassifier"
   ]
  },
  {
   "cell_type": "code",
   "execution_count": 407,
   "metadata": {
    "collapsed": true
   },
   "outputs": [],
   "source": [
    "cv_y = df_cv['is_listened']"
   ]
  },
  {
   "cell_type": "code",
   "execution_count": 408,
   "metadata": {
    "collapsed": true
   },
   "outputs": [],
   "source": [
    "cv_x = df_cv.drop(['is_listened','ID'],axis=1)"
   ]
  },
  {
   "cell_type": "code",
   "execution_count": 409,
   "metadata": {
    "collapsed": true
   },
   "outputs": [],
   "source": [
    "train_y = df_train['is_listened']"
   ]
  },
  {
   "cell_type": "code",
   "execution_count": 410,
   "metadata": {
    "collapsed": true
   },
   "outputs": [],
   "source": [
    "train_x = df_train.drop(['is_listened','ID'],axis=1)"
   ]
  },
  {
   "cell_type": "code",
   "execution_count": 411,
   "metadata": {
    "collapsed": true
   },
   "outputs": [],
   "source": [
    "train_x.drop('release_date',axis=1,inplace=True)"
   ]
  },
  {
   "cell_type": "code",
   "execution_count": 412,
   "metadata": {
    "collapsed": true
   },
   "outputs": [],
   "source": [
    "cv_x.drop('release_date',axis=1,inplace=True)"
   ]
  },
  {
   "cell_type": "code",
   "execution_count": 417,
   "metadata": {
    "collapsed": true
   },
   "outputs": [],
   "source": [
    "train_x.drop('ts_listen',axis=1,inplace=True)"
   ]
  },
  {
   "cell_type": "code",
   "execution_count": 418,
   "metadata": {
    "collapsed": true
   },
   "outputs": [],
   "source": [
    "cv_x.drop('ts_listen',axis=1,inplace=True)"
   ]
  },
  {
   "cell_type": "code",
   "execution_count": 425,
   "metadata": {
    "collapsed": true
   },
   "outputs": [],
   "source": [
    "test2.drop('ID',axis=1,inplace=True)"
   ]
  },
  {
   "cell_type": "code",
   "execution_count": 419,
   "metadata": {},
   "outputs": [
    {
     "data": {
      "text/plain": [
       "Index(['album_id', 'artist_id', 'context_type', 'genre_id', 'listen_type',\n",
       "       'media_duration', 'media_id', 'platform_family', 'platform_name',\n",
       "       'train', 'user_age', 'user_gender', 'user_id', 'count_user_artist'],\n",
       "      dtype='object')"
      ]
     },
     "execution_count": 419,
     "metadata": {},
     "output_type": "execute_result"
    }
   ],
   "source": [
    "cv_x.columns"
   ]
  },
  {
   "cell_type": "code",
   "execution_count": 420,
   "metadata": {},
   "outputs": [
    {
     "data": {
      "text/plain": [
       "Index(['genre_id', 'media_id', 'album_id', 'context_type', 'platform_name',\n",
       "       'platform_family', 'media_duration', 'listen_type', 'user_gender',\n",
       "       'user_id', 'artist_id', 'user_age', 'fresh'],\n",
       "      dtype='object')"
      ]
     },
     "execution_count": 420,
     "metadata": {},
     "output_type": "execute_result"
    }
   ],
   "source": [
    "train_x.columns"
   ]
  },
  {
   "cell_type": "code",
   "execution_count": 426,
   "metadata": {},
   "outputs": [
    {
     "data": {
      "text/plain": [
       "Index(['album_id', 'artist_id', 'context_type', 'genre_id', 'is_listened',\n",
       "       'listen_type', 'media_duration', 'media_id', 'platform_family',\n",
       "       'platform_name', 'release_date', 'train', 'ts_listen', 'user_age',\n",
       "       'user_gender', 'user_id', 'count_user_artist'],\n",
       "      dtype='object')"
      ]
     },
     "execution_count": 426,
     "metadata": {},
     "output_type": "execute_result"
    }
   ],
   "source": [
    "test2.columns"
   ]
  },
  {
   "cell_type": "code",
   "execution_count": 421,
   "metadata": {
    "collapsed": true
   },
   "outputs": [],
   "source": [
    "model_basic = RandomForestClassifier(n_estimators=100,max_depth=10)"
   ]
  },
  {
   "cell_type": "code",
   "execution_count": 422,
   "metadata": {},
   "outputs": [
    {
     "data": {
      "text/plain": [
       "RandomForestClassifier(bootstrap=True, class_weight=None, criterion='gini',\n",
       "            max_depth=10, max_features='auto', max_leaf_nodes=None,\n",
       "            min_impurity_split=1e-07, min_samples_leaf=1,\n",
       "            min_samples_split=2, min_weight_fraction_leaf=0.0,\n",
       "            n_estimators=100, n_jobs=1, oob_score=False, random_state=None,\n",
       "            verbose=0, warm_start=False)"
      ]
     },
     "execution_count": 422,
     "metadata": {},
     "output_type": "execute_result"
    }
   ],
   "source": [
    "model_basic.fit(train_x,train_y)"
   ]
  },
  {
   "cell_type": "code",
   "execution_count": 181,
   "metadata": {
    "collapsed": true
   },
   "outputs": [],
   "source": [
    "from sklearn.metrics import accuracy_score\n",
    "from sklearn.metrics import log_loss"
   ]
  },
  {
   "cell_type": "code",
   "execution_count": 355,
   "metadata": {},
   "outputs": [
    {
     "data": {
      "text/plain": [
       "0.67720443992975732"
      ]
     },
     "execution_count": 355,
     "metadata": {},
     "output_type": "execute_result"
    }
   ],
   "source": [
    "accuracy_score(cv_y,model_basic.predict(cv_x))"
   ]
  },
  {
   "cell_type": "code",
   "execution_count": 423,
   "metadata": {},
   "outputs": [
    {
     "ename": "ValueError",
     "evalue": "Number of features of the model must match the input. Model n_features is 13 and input n_features is 14 ",
     "output_type": "error",
     "traceback": [
      "\u001b[1;31m---------------------------------------------------------------------------\u001b[0m",
      "\u001b[1;31mValueError\u001b[0m                                Traceback (most recent call last)",
      "\u001b[1;32m<ipython-input-423-33c46057f537>\u001b[0m in \u001b[0;36m<module>\u001b[1;34m()\u001b[0m\n\u001b[1;32m----> 1\u001b[1;33m \u001b[0mlog_loss\u001b[0m\u001b[1;33m(\u001b[0m\u001b[0mcv_y\u001b[0m\u001b[1;33m,\u001b[0m\u001b[0mmodel_basic\u001b[0m\u001b[1;33m.\u001b[0m\u001b[0mpredict_proba\u001b[0m\u001b[1;33m(\u001b[0m\u001b[0mcv_x\u001b[0m\u001b[1;33m)\u001b[0m\u001b[1;33m)\u001b[0m\u001b[1;33m\u001b[0m\u001b[0m\n\u001b[0m",
      "\u001b[1;32mC:\\Users\\HP\\Anaconda3\\lib\\site-packages\\sklearn\\ensemble\\forest.py\u001b[0m in \u001b[0;36mpredict_proba\u001b[1;34m(self, X)\u001b[0m\n\u001b[0;32m    571\u001b[0m         \"\"\"\n\u001b[0;32m    572\u001b[0m         \u001b[1;31m# Check data\u001b[0m\u001b[1;33m\u001b[0m\u001b[1;33m\u001b[0m\u001b[0m\n\u001b[1;32m--> 573\u001b[1;33m         \u001b[0mX\u001b[0m \u001b[1;33m=\u001b[0m \u001b[0mself\u001b[0m\u001b[1;33m.\u001b[0m\u001b[0m_validate_X_predict\u001b[0m\u001b[1;33m(\u001b[0m\u001b[0mX\u001b[0m\u001b[1;33m)\u001b[0m\u001b[1;33m\u001b[0m\u001b[0m\n\u001b[0m\u001b[0;32m    574\u001b[0m \u001b[1;33m\u001b[0m\u001b[0m\n\u001b[0;32m    575\u001b[0m         \u001b[1;31m# Assign chunk of trees to jobs\u001b[0m\u001b[1;33m\u001b[0m\u001b[1;33m\u001b[0m\u001b[0m\n",
      "\u001b[1;32mC:\\Users\\HP\\Anaconda3\\lib\\site-packages\\sklearn\\ensemble\\forest.py\u001b[0m in \u001b[0;36m_validate_X_predict\u001b[1;34m(self, X)\u001b[0m\n\u001b[0;32m    353\u001b[0m                                  \"call `fit` before exploiting the model.\")\n\u001b[0;32m    354\u001b[0m \u001b[1;33m\u001b[0m\u001b[0m\n\u001b[1;32m--> 355\u001b[1;33m         \u001b[1;32mreturn\u001b[0m \u001b[0mself\u001b[0m\u001b[1;33m.\u001b[0m\u001b[0mestimators_\u001b[0m\u001b[1;33m[\u001b[0m\u001b[1;36m0\u001b[0m\u001b[1;33m]\u001b[0m\u001b[1;33m.\u001b[0m\u001b[0m_validate_X_predict\u001b[0m\u001b[1;33m(\u001b[0m\u001b[0mX\u001b[0m\u001b[1;33m,\u001b[0m \u001b[0mcheck_input\u001b[0m\u001b[1;33m=\u001b[0m\u001b[1;32mTrue\u001b[0m\u001b[1;33m)\u001b[0m\u001b[1;33m\u001b[0m\u001b[0m\n\u001b[0m\u001b[0;32m    356\u001b[0m \u001b[1;33m\u001b[0m\u001b[0m\n\u001b[0;32m    357\u001b[0m     \u001b[1;33m@\u001b[0m\u001b[0mproperty\u001b[0m\u001b[1;33m\u001b[0m\u001b[0m\n",
      "\u001b[1;32mC:\\Users\\HP\\Anaconda3\\lib\\site-packages\\sklearn\\tree\\tree.py\u001b[0m in \u001b[0;36m_validate_X_predict\u001b[1;34m(self, X, check_input)\u001b[0m\n\u001b[0;32m    374\u001b[0m                              \u001b[1;34m\"match the input. Model n_features is %s and \"\u001b[0m\u001b[1;33m\u001b[0m\u001b[0m\n\u001b[0;32m    375\u001b[0m                              \u001b[1;34m\"input n_features is %s \"\u001b[0m\u001b[1;33m\u001b[0m\u001b[0m\n\u001b[1;32m--> 376\u001b[1;33m                              % (self.n_features_, n_features))\n\u001b[0m\u001b[0;32m    377\u001b[0m \u001b[1;33m\u001b[0m\u001b[0m\n\u001b[0;32m    378\u001b[0m         \u001b[1;32mreturn\u001b[0m \u001b[0mX\u001b[0m\u001b[1;33m\u001b[0m\u001b[0m\n",
      "\u001b[1;31mValueError\u001b[0m: Number of features of the model must match the input. Model n_features is 13 and input n_features is 14 "
     ]
    }
   ],
   "source": [
    "log_loss(cv_y,model_basic.predict_proba(cv_x))"
   ]
  },
  {
   "cell_type": "code",
   "execution_count": 362,
   "metadata": {
    "collapsed": true
   },
   "outputs": [],
   "source": [
    " test2.drop('ID',axis=1,inplace=True)"
   ]
  },
  {
   "cell_type": "code",
   "execution_count": 363,
   "metadata": {
    "collapsed": true
   },
   "outputs": [],
   "source": [
    "test2.drop('ts_listen',axis=1,inplace=True)"
   ]
  },
  {
   "cell_type": "code",
   "execution_count": 375,
   "metadata": {},
   "outputs": [
    {
     "data": {
      "text/plain": [
       "Index(['album_id', 'artist_id', 'context_type', 'genre_id', 'listen_type',\n",
       "       'media_duration', 'media_id', 'platform_family', 'platform_name',\n",
       "       'user_age', 'user_gender', 'user_id', 'fresh'],\n",
       "      dtype='object')"
      ]
     },
     "execution_count": 375,
     "metadata": {},
     "output_type": "execute_result"
    }
   ],
   "source": [
    "test2.columns"
   ]
  },
  {
   "cell_type": "code",
   "execution_count": 376,
   "metadata": {},
   "outputs": [
    {
     "data": {
      "text/plain": [
       "Index(['genre_id', 'media_id', 'album_id', 'context_type', 'platform_name',\n",
       "       'platform_family', 'media_duration', 'listen_type', 'user_gender',\n",
       "       'user_id', 'artist_id', 'user_age', 'fresh'],\n",
       "      dtype='object')"
      ]
     },
     "execution_count": 376,
     "metadata": {},
     "output_type": "execute_result"
    }
   ],
   "source": [
    "cv_x.columns"
   ]
  },
  {
   "cell_type": "code",
   "execution_count": 379,
   "metadata": {
    "collapsed": true
   },
   "outputs": [],
   "source": [
    "basic_prediction = model_basic.predict_proba(test2)\n"
   ]
  },
  {
   "cell_type": "code",
   "execution_count": 380,
   "metadata": {
    "collapsed": true
   },
   "outputs": [],
   "source": [
    "ID = test['ID']\n"
   ]
  },
  {
   "cell_type": "code",
   "execution_count": 381,
   "metadata": {
    "collapsed": true
   },
   "outputs": [],
   "source": [
    "list1 = []\n",
    "for elements in basic_prediction:\n",
    "    list1.append(elements[1])"
   ]
  },
  {
   "cell_type": "code",
   "execution_count": 382,
   "metadata": {
    "collapsed": true
   },
   "outputs": [],
   "source": [
    "list1 = np.array(list1)"
   ]
  },
  {
   "cell_type": "code",
   "execution_count": 383,
   "metadata": {
    "collapsed": true
   },
   "outputs": [],
   "source": [
    "submission_basicmodel = pd.DataFrame(ID)\n",
    "submission_basicmodel['is_listened'] = list1\n"
   ]
  },
  {
   "cell_type": "code",
   "execution_count": 384,
   "metadata": {
    "collapsed": true
   },
   "outputs": [],
   "source": [
    "submission_basicmodel.to_csv('C:/Users/HP/Desktop/intern hackathon/submission_basicmodel_feature_eng.csv')"
   ]
  },
  {
   "cell_type": "markdown",
   "metadata": {},
   "source": [
    "## model building stops here"
   ]
  },
  {
   "cell_type": "code",
   "execution_count": 18,
   "metadata": {},
   "outputs": [
    {
     "data": {
      "text/plain": [
       "user_id\n",
       "0         4\n",
       "1         5\n",
       "2        18\n",
       "3        36\n",
       "4         5\n",
       "5        27\n",
       "6        14\n",
       "7        15\n",
       "8        12\n",
       "9        25\n",
       "10       16\n",
       "11       14\n",
       "12       10\n",
       "13        9\n",
       "14       12\n",
       "15       16\n",
       "16        5\n",
       "17       16\n",
       "18       18\n",
       "19       10\n",
       "20       22\n",
       "21        6\n",
       "22       20\n",
       "23       16\n",
       "24        7\n",
       "25       19\n",
       "26        1\n",
       "27       16\n",
       "28       17\n",
       "29       23\n",
       "         ..\n",
       "17258     1\n",
       "17259     1\n",
       "17260     1\n",
       "17261     1\n",
       "17262     1\n",
       "17263     1\n",
       "17264     1\n",
       "17265     1\n",
       "17266     1\n",
       "17267     1\n",
       "17268     1\n",
       "17269     1\n",
       "17270     1\n",
       "17271     1\n",
       "17272     1\n",
       "17273     1\n",
       "17274     1\n",
       "17275     1\n",
       "17276     1\n",
       "17277     1\n",
       "17278     1\n",
       "17279     1\n",
       "17280     1\n",
       "17281     1\n",
       "17282     1\n",
       "17283     1\n",
       "17284     1\n",
       "17285     1\n",
       "17286     1\n",
       "17287     1\n",
       "Name: genre_id, Length: 17288, dtype: int64"
      ]
     },
     "execution_count": 18,
     "metadata": {},
     "output_type": "execute_result"
    }
   ],
   "source": [
    "df[['user_id','genre_id']].groupby('user_id')['genre_id'].apply(lambda x: len(np.unique(x.tolist())))"
   ]
  },
  {
   "cell_type": "code",
   "execution_count": 94,
   "metadata": {
    "collapsed": true
   },
   "outputs": [],
   "source": [
    "list0 = []\n",
    "for i in range(0,1053908):\n",
    "    list0.append(1)\n"
   ]
  },
  {
   "cell_type": "code",
   "execution_count": 95,
   "metadata": {
    "collapsed": true
   },
   "outputs": [],
   "source": [
    "df['train'] =  pd.Series(list0)\n"
   ]
  },
  {
   "cell_type": "code",
   "execution_count": 96,
   "metadata": {},
   "outputs": [
    {
     "data": {
      "text/plain": [
       "(554932, 21)"
      ]
     },
     "execution_count": 96,
     "metadata": {},
     "output_type": "execute_result"
    }
   ],
   "source": [
    "test.shape"
   ]
  },
  {
   "cell_type": "code",
   "execution_count": 97,
   "metadata": {
    "collapsed": true
   },
   "outputs": [],
   "source": [
    "list10=[]\n",
    "for i in range(0,554932):\n",
    "    list10.append(0)"
   ]
  },
  {
   "cell_type": "code",
   "execution_count": 98,
   "metadata": {
    "collapsed": true
   },
   "outputs": [],
   "source": [
    "test['train'] = pd.Series(list10)"
   ]
  },
  {
   "cell_type": "code",
   "execution_count": 99,
   "metadata": {
    "collapsed": true
   },
   "outputs": [],
   "source": [
    "appended = df.append(test) "
   ]
  },
  {
   "cell_type": "code",
   "execution_count": 100,
   "metadata": {},
   "outputs": [
    {
     "data": {
      "text/plain": [
       "(1608840, 23)"
      ]
     },
     "execution_count": 100,
     "metadata": {},
     "output_type": "execute_result"
    }
   ],
   "source": [
    "appended.shape"
   ]
  },
  {
   "cell_type": "code",
   "execution_count": 101,
   "metadata": {},
   "outputs": [
    {
     "data": {
      "text/plain": [
       "ID                              0\n",
       "album_id                        0\n",
       "artist_id                       0\n",
       "context_type                    0\n",
       "flow_break_frequency      1053908\n",
       "genre_id                        0\n",
       "hit                       1053908\n",
       "hit_album_in_genre        1053908\n",
       "is_listened                554932\n",
       "listen_type                     0\n",
       "media_duration                  0\n",
       "media_id                        0\n",
       "platform_family                 0\n",
       "platform_name                   0\n",
       "release_date                    0\n",
       "time_of_day               1053908\n",
       "train                           0\n",
       "ts_listen                       0\n",
       "user_age                        0\n",
       "user_context_frequency    1053908\n",
       "user_gender                     0\n",
       "user_genre_count          1053908\n",
       "user_id                         0\n",
       "dtype: int64"
      ]
     },
     "execution_count": 101,
     "metadata": {},
     "output_type": "execute_result"
    }
   ],
   "source": [
    "appended.isnull().sum()"
   ]
  },
  {
   "cell_type": "code",
   "execution_count": 102,
   "metadata": {
    "collapsed": true
   },
   "outputs": [],
   "source": [
    "sortappended = appended.sort_values(['user_id','ts_listen','media_id'])"
   ]
  },
  {
   "cell_type": "code",
   "execution_count": 103,
   "metadata": {
    "collapsed": true
   },
   "outputs": [],
   "source": [
    "from collections import  defaultdict\n",
    "ui = sortappended.user_id.values\n",
    "mi = sortappended.media_id.values\n"
   ]
  },
  {
   "cell_type": "code",
   "execution_count": 104,
   "metadata": {
    "collapsed": true
   },
   "outputs": [],
   "source": [
    "dict1 = defaultdict(int)\n",
    "a = []\n",
    "for i,j in zip(ui,mi):\n",
    "    if dict1[str(i)+str(j)] ==  0:\n",
    "        a.append(1)\n",
    "        dict1[str(i)+str(j)] = 1\n",
    "    else:\n",
    "        a.append(0)\n",
    "        \n",
    "    "
   ]
  },
  {
   "cell_type": "code",
   "execution_count": 105,
   "metadata": {
    "collapsed": true
   },
   "outputs": [],
   "source": [
    "sortappended['fresh'] = a"
   ]
  },
  {
   "cell_type": "code",
   "execution_count": 107,
   "metadata": {
    "collapsed": true
   },
   "outputs": [],
   "source": [
    "fresh = sortappended.fresh"
   ]
  },
  {
   "cell_type": "code",
   "execution_count": 108,
   "metadata": {
    "collapsed": true
   },
   "outputs": [],
   "source": [
    "train10 = sortappended.loc[sortappended.train==1]\n",
    "test10 = sortappended.loc[sortappended.train==0]"
   ]
  },
  {
   "cell_type": "code",
   "execution_count": 109,
   "metadata": {
    "collapsed": true
   },
   "outputs": [],
   "source": [
    "fresh_train = train10['fresh']\n",
    "fresh_test = test10['fresh']"
   ]
  },
  {
   "cell_type": "code",
   "execution_count": 110,
   "metadata": {
    "collapsed": true
   },
   "outputs": [],
   "source": [
    "test['fresh'] = fresh_test"
   ]
  },
  {
   "cell_type": "code",
   "execution_count": null,
   "metadata": {
    "collapsed": true
   },
   "outputs": [],
   "source": []
  },
  {
   "cell_type": "code",
   "execution_count": null,
   "metadata": {
    "collapsed": true
   },
   "outputs": [],
   "source": []
  },
  {
   "cell_type": "code",
   "execution_count": null,
   "metadata": {
    "collapsed": true
   },
   "outputs": [],
   "source": []
  },
  {
   "cell_type": "code",
   "execution_count": 33,
   "metadata": {
    "collapsed": true
   },
   "outputs": [],
   "source": [
    "train1 = sortappended.loc[sortappended.train ==1]\n",
    "test1 = sortappended.loc[sortappended.train ==0]"
   ]
  },
  {
   "cell_type": "code",
   "execution_count": 35,
   "metadata": {},
   "outputs": [
    {
     "data": {
      "text/plain": [
       "0         0\n",
       "1         0\n",
       "2         0\n",
       "3         0\n",
       "4         0\n",
       "5         0\n",
       "6         0\n",
       "7         0\n",
       "8         0\n",
       "9         0\n",
       "10        0\n",
       "11        0\n",
       "12        0\n",
       "13        0\n",
       "14        1\n",
       "268432    0\n",
       "268433    0\n",
       "268434    0\n",
       "268435    1\n",
       "268436    1\n",
       "268437    1\n",
       "268438    1\n",
       "268439    1\n",
       "268440    1\n",
       "268441    1\n",
       "268442    1\n",
       "268443    1\n",
       "268444    0\n",
       "268445    0\n",
       "268446    0\n",
       "         ..\n",
       "554902    1\n",
       "554903    1\n",
       "554904    1\n",
       "554905    1\n",
       "554906    1\n",
       "554907    1\n",
       "554908    1\n",
       "554909    1\n",
       "554910    1\n",
       "554911    1\n",
       "554912    1\n",
       "554913    1\n",
       "554914    1\n",
       "554915    1\n",
       "554916    1\n",
       "554917    1\n",
       "554918    1\n",
       "554919    1\n",
       "554920    1\n",
       "554921    1\n",
       "554922    1\n",
       "554923    1\n",
       "554924    1\n",
       "554925    1\n",
       "554926    1\n",
       "554927    1\n",
       "554928    1\n",
       "554929    1\n",
       "554930    1\n",
       "554931    1\n",
       "Name: fresh, Length: 554932, dtype: int64"
      ]
     },
     "execution_count": 35,
     "metadata": {},
     "output_type": "execute_result"
    }
   ],
   "source": [
    "test1.fresh"
   ]
  },
  {
   "cell_type": "code",
   "execution_count": 67,
   "metadata": {},
   "outputs": [
    {
     "data": {
      "text/plain": [
       "(1053908, 19)"
      ]
     },
     "execution_count": 67,
     "metadata": {},
     "output_type": "execute_result"
    }
   ],
   "source": [
    "train1.shape"
   ]
  },
  {
   "cell_type": "code",
   "execution_count": 70,
   "metadata": {
    "collapsed": true
   },
   "outputs": [],
   "source": [
    "test['fresh'] = test1['fresh']"
   ]
  },
  {
   "cell_type": "code",
   "execution_count": 73,
   "metadata": {
    "collapsed": true
   },
   "outputs": [],
   "source": [
    "df['fresh'] = train1['fresh']"
   ]
  },
  {
   "cell_type": "code",
   "execution_count": 82,
   "metadata": {
    "collapsed": true
   },
   "outputs": [],
   "source": [
    "agebins = [18,24,30]"
   ]
  },
  {
   "cell_type": "code",
   "execution_count": 83,
   "metadata": {
    "collapsed": true
   },
   "outputs": [],
   "source": [
    "df['agebins'] = pd.cut(df.user_age,agebins)"
   ]
  },
  {
   "cell_type": "code",
   "execution_count": 85,
   "metadata": {
    "collapsed": true
   },
   "outputs": [],
   "source": [
    "test['agebins'] = pd.cut(test.user_age,agebins)"
   ]
  },
  {
   "cell_type": "code",
   "execution_count": 95,
   "metadata": {
    "collapsed": true
   },
   "outputs": [],
   "source": [
    "sortappended['ts_listen'] =    pd.to_datetime(sortappended['ts_listen']) \n",
    "sortappended['release_date'] = pd.to_datetime(sortappended['release_date'])"
   ]
  },
  {
   "cell_type": "code",
   "execution_count": 97,
   "metadata": {
    "collapsed": true
   },
   "outputs": [],
   "source": [
    "year = sortappended.ts_listen.dt.year - sortappended.release_date.dt.year"
   ]
  },
  {
   "cell_type": "code",
   "execution_count": 98,
   "metadata": {
    "collapsed": true
   },
   "outputs": [],
   "source": [
    "month = sortappended.ts_listen.dt.year - sortappended.release_date.dt.year"
   ]
  },
  {
   "cell_type": "code",
   "execution_count": 99,
   "metadata": {
    "collapsed": true
   },
   "outputs": [],
   "source": [
    "sortappended['old'] = 12*year + month"
   ]
  },
  {
   "cell_type": "code",
   "execution_count": 101,
   "metadata": {},
   "outputs": [
    {
     "data": {
      "text/plain": [
       "array([598, 494,   0, 585, 338, 507, 572, 533, 559, 130, 403, 546, 520], dtype=int64)"
      ]
     },
     "execution_count": 101,
     "metadata": {},
     "output_type": "execute_result"
    }
   ],
   "source": [
    "sortappended['old'].unique()"
   ]
  },
  {
   "cell_type": "code",
   "execution_count": 136,
   "metadata": {
    "collapsed": true
   },
   "outputs": [],
   "source": [
    "newdf = sortappended[['media_id','user_id','artist_id']].groupby(['user_id','artist_id']).agg('count').reset_index()\n",
    "newdf.columns = ['user_id','artist_id','count_user_artist']\n"
   ]
  },
  {
   "cell_type": "code",
   "execution_count": 122,
   "metadata": {},
   "outputs": [
    {
     "data": {
      "text/html": [
       "<div>\n",
       "<style>\n",
       "    .dataframe thead tr:only-child th {\n",
       "        text-align: right;\n",
       "    }\n",
       "\n",
       "    .dataframe thead th {\n",
       "        text-align: left;\n",
       "    }\n",
       "\n",
       "    .dataframe tbody tr th {\n",
       "        vertical-align: top;\n",
       "    }\n",
       "</style>\n",
       "<table border=\"1\" class=\"dataframe\">\n",
       "  <thead>\n",
       "    <tr style=\"text-align: right;\">\n",
       "      <th></th>\n",
       "      <th>user_id</th>\n",
       "      <th>artist_id</th>\n",
       "      <th>count_user_artist</th>\n",
       "    </tr>\n",
       "  </thead>\n",
       "  <tbody>\n",
       "    <tr>\n",
       "      <th>0</th>\n",
       "      <td>0</td>\n",
       "      <td>7508018</td>\n",
       "      <td>1</td>\n",
       "    </tr>\n",
       "    <tr>\n",
       "      <th>1</th>\n",
       "      <td>0</td>\n",
       "      <td>1035779</td>\n",
       "      <td>1</td>\n",
       "    </tr>\n",
       "    <tr>\n",
       "      <th>2</th>\n",
       "      <td>0</td>\n",
       "      <td>4331004</td>\n",
       "      <td>2</td>\n",
       "    </tr>\n",
       "    <tr>\n",
       "      <th>3</th>\n",
       "      <td>0</td>\n",
       "      <td>3469</td>\n",
       "      <td>3</td>\n",
       "    </tr>\n",
       "    <tr>\n",
       "      <th>4</th>\n",
       "      <td>0</td>\n",
       "      <td>282118</td>\n",
       "      <td>1</td>\n",
       "    </tr>\n",
       "    <tr>\n",
       "      <th>5</th>\n",
       "      <td>0</td>\n",
       "      <td>482758</td>\n",
       "      <td>1</td>\n",
       "    </tr>\n",
       "    <tr>\n",
       "      <th>6</th>\n",
       "      <td>0</td>\n",
       "      <td>9856534</td>\n",
       "      <td>1</td>\n",
       "    </tr>\n",
       "    <tr>\n",
       "      <th>7</th>\n",
       "      <td>0</td>\n",
       "      <td>274673</td>\n",
       "      <td>1</td>\n",
       "    </tr>\n",
       "    <tr>\n",
       "      <th>8</th>\n",
       "      <td>0</td>\n",
       "      <td>1009000</td>\n",
       "      <td>1</td>\n",
       "    </tr>\n",
       "    <tr>\n",
       "      <th>9</th>\n",
       "      <td>0</td>\n",
       "      <td>5542423</td>\n",
       "      <td>1</td>\n",
       "    </tr>\n",
       "    <tr>\n",
       "      <th>10</th>\n",
       "      <td>0</td>\n",
       "      <td>112259</td>\n",
       "      <td>2</td>\n",
       "    </tr>\n",
       "    <tr>\n",
       "      <th>11</th>\n",
       "      <td>0</td>\n",
       "      <td>5306539</td>\n",
       "      <td>1</td>\n",
       "    </tr>\n",
       "    <tr>\n",
       "      <th>12</th>\n",
       "      <td>0</td>\n",
       "      <td>271922</td>\n",
       "      <td>2</td>\n",
       "    </tr>\n",
       "    <tr>\n",
       "      <th>13</th>\n",
       "      <td>0</td>\n",
       "      <td>873890</td>\n",
       "      <td>1</td>\n",
       "    </tr>\n",
       "    <tr>\n",
       "      <th>14</th>\n",
       "      <td>0</td>\n",
       "      <td>1188</td>\n",
       "      <td>1</td>\n",
       "    </tr>\n",
       "    <tr>\n",
       "      <th>15</th>\n",
       "      <td>0</td>\n",
       "      <td>4101559</td>\n",
       "      <td>1</td>\n",
       "    </tr>\n",
       "    <tr>\n",
       "      <th>16</th>\n",
       "      <td>0</td>\n",
       "      <td>5962948</td>\n",
       "      <td>1</td>\n",
       "    </tr>\n",
       "    <tr>\n",
       "      <th>17</th>\n",
       "      <td>0</td>\n",
       "      <td>75491</td>\n",
       "      <td>1</td>\n",
       "    </tr>\n",
       "    <tr>\n",
       "      <th>18</th>\n",
       "      <td>0</td>\n",
       "      <td>5126564</td>\n",
       "      <td>1</td>\n",
       "    </tr>\n",
       "    <tr>\n",
       "      <th>19</th>\n",
       "      <td>0</td>\n",
       "      <td>647650</td>\n",
       "      <td>5</td>\n",
       "    </tr>\n",
       "    <tr>\n",
       "      <th>20</th>\n",
       "      <td>0</td>\n",
       "      <td>4050205</td>\n",
       "      <td>2</td>\n",
       "    </tr>\n",
       "    <tr>\n",
       "      <th>21</th>\n",
       "      <td>0</td>\n",
       "      <td>647650</td>\n",
       "      <td>5</td>\n",
       "    </tr>\n",
       "    <tr>\n",
       "      <th>22</th>\n",
       "      <td>0</td>\n",
       "      <td>4050205</td>\n",
       "      <td>2</td>\n",
       "    </tr>\n",
       "    <tr>\n",
       "      <th>23</th>\n",
       "      <td>0</td>\n",
       "      <td>371843</td>\n",
       "      <td>1</td>\n",
       "    </tr>\n",
       "    <tr>\n",
       "      <th>24</th>\n",
       "      <td>0</td>\n",
       "      <td>542</td>\n",
       "      <td>1</td>\n",
       "    </tr>\n",
       "    <tr>\n",
       "      <th>25</th>\n",
       "      <td>0</td>\n",
       "      <td>5992092</td>\n",
       "      <td>1</td>\n",
       "    </tr>\n",
       "    <tr>\n",
       "      <th>26</th>\n",
       "      <td>0</td>\n",
       "      <td>12178</td>\n",
       "      <td>1</td>\n",
       "    </tr>\n",
       "    <tr>\n",
       "      <th>27</th>\n",
       "      <td>0</td>\n",
       "      <td>4104927</td>\n",
       "      <td>2</td>\n",
       "    </tr>\n",
       "    <tr>\n",
       "      <th>28</th>\n",
       "      <td>0</td>\n",
       "      <td>3968561</td>\n",
       "      <td>1</td>\n",
       "    </tr>\n",
       "    <tr>\n",
       "      <th>29</th>\n",
       "      <td>0</td>\n",
       "      <td>1147</td>\n",
       "      <td>1</td>\n",
       "    </tr>\n",
       "    <tr>\n",
       "      <th>...</th>\n",
       "      <td>...</td>\n",
       "      <td>...</td>\n",
       "      <td>...</td>\n",
       "    </tr>\n",
       "    <tr>\n",
       "      <th>1608810</th>\n",
       "      <td>19888</td>\n",
       "      <td>11088</td>\n",
       "      <td>1</td>\n",
       "    </tr>\n",
       "    <tr>\n",
       "      <th>1608811</th>\n",
       "      <td>19889</td>\n",
       "      <td>5857773</td>\n",
       "      <td>1</td>\n",
       "    </tr>\n",
       "    <tr>\n",
       "      <th>1608812</th>\n",
       "      <td>19890</td>\n",
       "      <td>359316</td>\n",
       "      <td>1</td>\n",
       "    </tr>\n",
       "    <tr>\n",
       "      <th>1608813</th>\n",
       "      <td>19891</td>\n",
       "      <td>13011</td>\n",
       "      <td>1</td>\n",
       "    </tr>\n",
       "    <tr>\n",
       "      <th>1608814</th>\n",
       "      <td>19892</td>\n",
       "      <td>7946686</td>\n",
       "      <td>1</td>\n",
       "    </tr>\n",
       "    <tr>\n",
       "      <th>1608815</th>\n",
       "      <td>19893</td>\n",
       "      <td>1519461</td>\n",
       "      <td>1</td>\n",
       "    </tr>\n",
       "    <tr>\n",
       "      <th>1608816</th>\n",
       "      <td>19894</td>\n",
       "      <td>7946686</td>\n",
       "      <td>1</td>\n",
       "    </tr>\n",
       "    <tr>\n",
       "      <th>1608817</th>\n",
       "      <td>19895</td>\n",
       "      <td>997</td>\n",
       "      <td>1</td>\n",
       "    </tr>\n",
       "    <tr>\n",
       "      <th>1608818</th>\n",
       "      <td>19896</td>\n",
       "      <td>148129</td>\n",
       "      <td>1</td>\n",
       "    </tr>\n",
       "    <tr>\n",
       "      <th>1608819</th>\n",
       "      <td>19897</td>\n",
       "      <td>4331004</td>\n",
       "      <td>1</td>\n",
       "    </tr>\n",
       "    <tr>\n",
       "      <th>1608820</th>\n",
       "      <td>19898</td>\n",
       "      <td>282118</td>\n",
       "      <td>1</td>\n",
       "    </tr>\n",
       "    <tr>\n",
       "      <th>1608821</th>\n",
       "      <td>19899</td>\n",
       "      <td>11</td>\n",
       "      <td>1</td>\n",
       "    </tr>\n",
       "    <tr>\n",
       "      <th>1608822</th>\n",
       "      <td>19900</td>\n",
       "      <td>383309</td>\n",
       "      <td>1</td>\n",
       "    </tr>\n",
       "    <tr>\n",
       "      <th>1608823</th>\n",
       "      <td>19901</td>\n",
       "      <td>1519461</td>\n",
       "      <td>1</td>\n",
       "    </tr>\n",
       "    <tr>\n",
       "      <th>1608824</th>\n",
       "      <td>19902</td>\n",
       "      <td>7065</td>\n",
       "      <td>1</td>\n",
       "    </tr>\n",
       "    <tr>\n",
       "      <th>1608825</th>\n",
       "      <td>19903</td>\n",
       "      <td>1980</td>\n",
       "      <td>1</td>\n",
       "    </tr>\n",
       "    <tr>\n",
       "      <th>1608826</th>\n",
       "      <td>19904</td>\n",
       "      <td>13442</td>\n",
       "      <td>1</td>\n",
       "    </tr>\n",
       "    <tr>\n",
       "      <th>1608827</th>\n",
       "      <td>19905</td>\n",
       "      <td>1047058</td>\n",
       "      <td>1</td>\n",
       "    </tr>\n",
       "    <tr>\n",
       "      <th>1608828</th>\n",
       "      <td>19906</td>\n",
       "      <td>409796</td>\n",
       "      <td>1</td>\n",
       "    </tr>\n",
       "    <tr>\n",
       "      <th>1608829</th>\n",
       "      <td>19907</td>\n",
       "      <td>66744</td>\n",
       "      <td>1</td>\n",
       "    </tr>\n",
       "    <tr>\n",
       "      <th>1608830</th>\n",
       "      <td>19908</td>\n",
       "      <td>482758</td>\n",
       "      <td>1</td>\n",
       "    </tr>\n",
       "    <tr>\n",
       "      <th>1608831</th>\n",
       "      <td>19909</td>\n",
       "      <td>2255</td>\n",
       "      <td>1</td>\n",
       "    </tr>\n",
       "    <tr>\n",
       "      <th>1608832</th>\n",
       "      <td>19910</td>\n",
       "      <td>1678249</td>\n",
       "      <td>1</td>\n",
       "    </tr>\n",
       "    <tr>\n",
       "      <th>1608833</th>\n",
       "      <td>19911</td>\n",
       "      <td>388973</td>\n",
       "      <td>1</td>\n",
       "    </tr>\n",
       "    <tr>\n",
       "      <th>1608834</th>\n",
       "      <td>19912</td>\n",
       "      <td>7637436</td>\n",
       "      <td>1</td>\n",
       "    </tr>\n",
       "    <tr>\n",
       "      <th>1608835</th>\n",
       "      <td>19913</td>\n",
       "      <td>1519461</td>\n",
       "      <td>1</td>\n",
       "    </tr>\n",
       "    <tr>\n",
       "      <th>1608836</th>\n",
       "      <td>19914</td>\n",
       "      <td>482758</td>\n",
       "      <td>1</td>\n",
       "    </tr>\n",
       "    <tr>\n",
       "      <th>1608837</th>\n",
       "      <td>19915</td>\n",
       "      <td>10069836</td>\n",
       "      <td>1</td>\n",
       "    </tr>\n",
       "    <tr>\n",
       "      <th>1608838</th>\n",
       "      <td>19916</td>\n",
       "      <td>604346</td>\n",
       "      <td>1</td>\n",
       "    </tr>\n",
       "    <tr>\n",
       "      <th>1608839</th>\n",
       "      <td>19917</td>\n",
       "      <td>705</td>\n",
       "      <td>1</td>\n",
       "    </tr>\n",
       "  </tbody>\n",
       "</table>\n",
       "<p>1608840 rows × 3 columns</p>\n",
       "</div>"
      ],
      "text/plain": [
       "         user_id  artist_id  count_user_artist\n",
       "0              0    7508018                  1\n",
       "1              0    1035779                  1\n",
       "2              0    4331004                  2\n",
       "3              0       3469                  3\n",
       "4              0     282118                  1\n",
       "5              0     482758                  1\n",
       "6              0    9856534                  1\n",
       "7              0     274673                  1\n",
       "8              0    1009000                  1\n",
       "9              0    5542423                  1\n",
       "10             0     112259                  2\n",
       "11             0    5306539                  1\n",
       "12             0     271922                  2\n",
       "13             0     873890                  1\n",
       "14             0       1188                  1\n",
       "15             0    4101559                  1\n",
       "16             0    5962948                  1\n",
       "17             0      75491                  1\n",
       "18             0    5126564                  1\n",
       "19             0     647650                  5\n",
       "20             0    4050205                  2\n",
       "21             0     647650                  5\n",
       "22             0    4050205                  2\n",
       "23             0     371843                  1\n",
       "24             0        542                  1\n",
       "25             0    5992092                  1\n",
       "26             0      12178                  1\n",
       "27             0    4104927                  2\n",
       "28             0    3968561                  1\n",
       "29             0       1147                  1\n",
       "...          ...        ...                ...\n",
       "1608810    19888      11088                  1\n",
       "1608811    19889    5857773                  1\n",
       "1608812    19890     359316                  1\n",
       "1608813    19891      13011                  1\n",
       "1608814    19892    7946686                  1\n",
       "1608815    19893    1519461                  1\n",
       "1608816    19894    7946686                  1\n",
       "1608817    19895        997                  1\n",
       "1608818    19896     148129                  1\n",
       "1608819    19897    4331004                  1\n",
       "1608820    19898     282118                  1\n",
       "1608821    19899         11                  1\n",
       "1608822    19900     383309                  1\n",
       "1608823    19901    1519461                  1\n",
       "1608824    19902       7065                  1\n",
       "1608825    19903       1980                  1\n",
       "1608826    19904      13442                  1\n",
       "1608827    19905    1047058                  1\n",
       "1608828    19906     409796                  1\n",
       "1608829    19907      66744                  1\n",
       "1608830    19908     482758                  1\n",
       "1608831    19909       2255                  1\n",
       "1608832    19910    1678249                  1\n",
       "1608833    19911     388973                  1\n",
       "1608834    19912    7637436                  1\n",
       "1608835    19913    1519461                  1\n",
       "1608836    19914     482758                  1\n",
       "1608837    19915   10069836                  1\n",
       "1608838    19916     604346                  1\n",
       "1608839    19917        705                  1\n",
       "\n",
       "[1608840 rows x 3 columns]"
      ]
     },
     "execution_count": 122,
     "metadata": {},
     "output_type": "execute_result"
    }
   ],
   "source": [
    "sortappended = sortappended.merge(newdf,how = 'left',on = ['user_id','artist_id'])\n",
    "sortappended[['user_id','artist_id','count_user_artist']]"
   ]
  },
  {
   "cell_type": "code",
   "execution_count": 135,
   "metadata": {},
   "outputs": [
    {
     "data": {
      "text/plain": [
       "0         1\n",
       "1         1\n",
       "2         1\n",
       "3         1\n",
       "4         1\n",
       "5         1\n",
       "6         1\n",
       "7         1\n",
       "8         1\n",
       "9         3\n",
       "10        1\n",
       "11        1\n",
       "12        2\n",
       "13        1\n",
       "14        3\n",
       "15        1\n",
       "16        2\n",
       "17        1\n",
       "18        1\n",
       "19        2\n",
       "20        1\n",
       "21        1\n",
       "22        1\n",
       "23        1\n",
       "24        2\n",
       "25        1\n",
       "26        1\n",
       "27        1\n",
       "28        2\n",
       "29        3\n",
       "         ..\n",
       "781955    1\n",
       "781956    1\n",
       "781957    1\n",
       "781958    1\n",
       "781959    1\n",
       "781960    1\n",
       "781961    1\n",
       "781962    1\n",
       "781963    1\n",
       "781964    1\n",
       "781965    1\n",
       "781966    1\n",
       "781967    1\n",
       "781968    1\n",
       "781969    1\n",
       "781970    1\n",
       "781971    1\n",
       "781972    1\n",
       "781973    1\n",
       "781974    1\n",
       "781975    1\n",
       "781976    1\n",
       "781977    1\n",
       "781978    1\n",
       "781979    1\n",
       "781980    1\n",
       "781981    1\n",
       "781982    1\n",
       "781983    1\n",
       "781984    1\n",
       "Name: media_id, Length: 781985, dtype: int64"
      ]
     },
     "execution_count": 135,
     "metadata": {},
     "output_type": "execute_result"
    }
   ],
   "source": [
    "newdf.media_id"
   ]
  },
  {
   "cell_type": "code",
   "execution_count": 140,
   "metadata": {},
   "outputs": [
    {
     "data": {
      "text/html": [
       "<div>\n",
       "<style>\n",
       "    .dataframe thead tr:only-child th {\n",
       "        text-align: right;\n",
       "    }\n",
       "\n",
       "    .dataframe thead th {\n",
       "        text-align: left;\n",
       "    }\n",
       "\n",
       "    .dataframe tbody tr th {\n",
       "        vertical-align: top;\n",
       "    }\n",
       "</style>\n",
       "<table border=\"1\" class=\"dataframe\">\n",
       "  <thead>\n",
       "    <tr style=\"text-align: right;\">\n",
       "      <th></th>\n",
       "      <th>ID</th>\n",
       "      <th>album_id</th>\n",
       "      <th>artist_id</th>\n",
       "      <th>context_type</th>\n",
       "      <th>genre_id</th>\n",
       "      <th>is_listened</th>\n",
       "      <th>listen_type</th>\n",
       "      <th>media_duration</th>\n",
       "      <th>media_id</th>\n",
       "      <th>platform_family</th>\n",
       "      <th>...</th>\n",
       "      <th>ts_listen</th>\n",
       "      <th>user_age</th>\n",
       "      <th>user_gender</th>\n",
       "      <th>user_id</th>\n",
       "      <th>k</th>\n",
       "      <th>fresh</th>\n",
       "      <th>old</th>\n",
       "      <th>count_user_artist_x</th>\n",
       "      <th>count_user_artist_y</th>\n",
       "      <th>count_user_artist</th>\n",
       "    </tr>\n",
       "  </thead>\n",
       "  <tbody>\n",
       "    <tr>\n",
       "      <th>0</th>\n",
       "      <td>0</td>\n",
       "      <td>12811130</td>\n",
       "      <td>7508018</td>\n",
       "      <td>0</td>\n",
       "      <td>0</td>\n",
       "      <td>1.0</td>\n",
       "      <td>0</td>\n",
       "      <td>194</td>\n",
       "      <td>122437314</td>\n",
       "      <td>2</td>\n",
       "      <td>...</td>\n",
       "      <td>2016-10-31 18:49:35</td>\n",
       "      <td>26</td>\n",
       "      <td>0</td>\n",
       "      <td>0</td>\n",
       "      <td>1</td>\n",
       "      <td>1</td>\n",
       "      <td>598</td>\n",
       "      <td>1</td>\n",
       "      <td>1</td>\n",
       "      <td>1</td>\n",
       "    </tr>\n",
       "    <tr>\n",
       "      <th>1</th>\n",
       "      <td>1</td>\n",
       "      <td>12920172</td>\n",
       "      <td>1035779</td>\n",
       "      <td>0</td>\n",
       "      <td>0</td>\n",
       "      <td>0.0</td>\n",
       "      <td>0</td>\n",
       "      <td>316</td>\n",
       "      <td>123339574</td>\n",
       "      <td>2</td>\n",
       "      <td>...</td>\n",
       "      <td>2016-11-01 06:42:11</td>\n",
       "      <td>26</td>\n",
       "      <td>0</td>\n",
       "      <td>0</td>\n",
       "      <td>1</td>\n",
       "      <td>1</td>\n",
       "      <td>598</td>\n",
       "      <td>1</td>\n",
       "      <td>1</td>\n",
       "      <td>1</td>\n",
       "    </tr>\n",
       "    <tr>\n",
       "      <th>2</th>\n",
       "      <td>2</td>\n",
       "      <td>13947748</td>\n",
       "      <td>4331004</td>\n",
       "      <td>0</td>\n",
       "      <td>0</td>\n",
       "      <td>0.0</td>\n",
       "      <td>0</td>\n",
       "      <td>224</td>\n",
       "      <td>131340580</td>\n",
       "      <td>2</td>\n",
       "      <td>...</td>\n",
       "      <td>2016-11-01 06:42:41</td>\n",
       "      <td>26</td>\n",
       "      <td>0</td>\n",
       "      <td>0</td>\n",
       "      <td>1</td>\n",
       "      <td>1</td>\n",
       "      <td>598</td>\n",
       "      <td>2</td>\n",
       "      <td>2</td>\n",
       "      <td>2</td>\n",
       "    </tr>\n",
       "    <tr>\n",
       "      <th>3</th>\n",
       "      <td>3</td>\n",
       "      <td>13976722</td>\n",
       "      <td>3469</td>\n",
       "      <td>0</td>\n",
       "      <td>0</td>\n",
       "      <td>1.0</td>\n",
       "      <td>0</td>\n",
       "      <td>210</td>\n",
       "      <td>131576046</td>\n",
       "      <td>2</td>\n",
       "      <td>...</td>\n",
       "      <td>2016-11-01 06:43:02</td>\n",
       "      <td>26</td>\n",
       "      <td>0</td>\n",
       "      <td>0</td>\n",
       "      <td>1</td>\n",
       "      <td>1</td>\n",
       "      <td>598</td>\n",
       "      <td>3</td>\n",
       "      <td>3</td>\n",
       "      <td>3</td>\n",
       "    </tr>\n",
       "    <tr>\n",
       "      <th>4</th>\n",
       "      <td>4</td>\n",
       "      <td>13640610</td>\n",
       "      <td>282118</td>\n",
       "      <td>0</td>\n",
       "      <td>0</td>\n",
       "      <td>1.0</td>\n",
       "      <td>0</td>\n",
       "      <td>185</td>\n",
       "      <td>129011934</td>\n",
       "      <td>2</td>\n",
       "      <td>...</td>\n",
       "      <td>2016-11-01 06:46:32</td>\n",
       "      <td>26</td>\n",
       "      <td>0</td>\n",
       "      <td>0</td>\n",
       "      <td>1</td>\n",
       "      <td>1</td>\n",
       "      <td>598</td>\n",
       "      <td>1</td>\n",
       "      <td>1</td>\n",
       "      <td>1</td>\n",
       "    </tr>\n",
       "  </tbody>\n",
       "</table>\n",
       "<p>5 rows × 23 columns</p>\n",
       "</div>"
      ],
      "text/plain": [
       "   ID  album_id  artist_id  context_type  genre_id  is_listened  listen_type  \\\n",
       "0   0  12811130    7508018             0         0          1.0            0   \n",
       "1   1  12920172    1035779             0         0          0.0            0   \n",
       "2   2  13947748    4331004             0         0          0.0            0   \n",
       "3   3  13976722       3469             0         0          1.0            0   \n",
       "4   4  13640610     282118             0         0          1.0            0   \n",
       "\n",
       "   media_duration   media_id  platform_family        ...          \\\n",
       "0             194  122437314                2        ...           \n",
       "1             316  123339574                2        ...           \n",
       "2             224  131340580                2        ...           \n",
       "3             210  131576046                2        ...           \n",
       "4             185  129011934                2        ...           \n",
       "\n",
       "            ts_listen user_age  user_gender user_id  k  fresh  old  \\\n",
       "0 2016-10-31 18:49:35       26            0       0  1      1  598   \n",
       "1 2016-11-01 06:42:11       26            0       0  1      1  598   \n",
       "2 2016-11-01 06:42:41       26            0       0  1      1  598   \n",
       "3 2016-11-01 06:43:02       26            0       0  1      1  598   \n",
       "4 2016-11-01 06:46:32       26            0       0  1      1  598   \n",
       "\n",
       "   count_user_artist_x  count_user_artist_y  count_user_artist  \n",
       "0                    1                    1                  1  \n",
       "1                    1                    1                  1  \n",
       "2                    2                    2                  2  \n",
       "3                    3                    3                  3  \n",
       "4                    1                    1                  1  \n",
       "\n",
       "[5 rows x 23 columns]"
      ]
     },
     "execution_count": 140,
     "metadata": {},
     "output_type": "execute_result"
    }
   ],
   "source": [
    "sortappended.head()"
   ]
  },
  {
   "cell_type": "code",
   "execution_count": 143,
   "metadata": {},
   "outputs": [
    {
     "data": {
      "text/html": [
       "<div>\n",
       "<style>\n",
       "    .dataframe thead tr:only-child th {\n",
       "        text-align: right;\n",
       "    }\n",
       "\n",
       "    .dataframe thead th {\n",
       "        text-align: left;\n",
       "    }\n",
       "\n",
       "    .dataframe tbody tr th {\n",
       "        vertical-align: top;\n",
       "    }\n",
       "</style>\n",
       "<table border=\"1\" class=\"dataframe\">\n",
       "  <thead>\n",
       "    <tr style=\"text-align: right;\">\n",
       "      <th></th>\n",
       "      <th>genre_id</th>\n",
       "      <th>ts_listen</th>\n",
       "      <th>media_id</th>\n",
       "      <th>album_id</th>\n",
       "      <th>context_type</th>\n",
       "      <th>release_date</th>\n",
       "      <th>platform_name</th>\n",
       "      <th>platform_family</th>\n",
       "      <th>media_duration</th>\n",
       "      <th>listen_type</th>\n",
       "      <th>user_gender</th>\n",
       "      <th>user_id</th>\n",
       "      <th>artist_id</th>\n",
       "      <th>user_age</th>\n",
       "      <th>is_listened</th>\n",
       "      <th>ID</th>\n",
       "      <th>fresh</th>\n",
       "      <th>agebins</th>\n",
       "    </tr>\n",
       "  </thead>\n",
       "  <tbody>\n",
       "    <tr>\n",
       "      <th>0</th>\n",
       "      <td>0</td>\n",
       "      <td>2016-10-31 18:49:35</td>\n",
       "      <td>122437314</td>\n",
       "      <td>12811130</td>\n",
       "      <td>0</td>\n",
       "      <td>20160408</td>\n",
       "      <td>0</td>\n",
       "      <td>2</td>\n",
       "      <td>194</td>\n",
       "      <td>0</td>\n",
       "      <td>0</td>\n",
       "      <td>0</td>\n",
       "      <td>7508018</td>\n",
       "      <td>26</td>\n",
       "      <td>1</td>\n",
       "      <td>0</td>\n",
       "      <td>1</td>\n",
       "      <td>(24, 30]</td>\n",
       "    </tr>\n",
       "    <tr>\n",
       "      <th>1</th>\n",
       "      <td>0</td>\n",
       "      <td>2016-11-01 06:42:11</td>\n",
       "      <td>123339574</td>\n",
       "      <td>12920172</td>\n",
       "      <td>0</td>\n",
       "      <td>20160422</td>\n",
       "      <td>0</td>\n",
       "      <td>2</td>\n",
       "      <td>316</td>\n",
       "      <td>0</td>\n",
       "      <td>0</td>\n",
       "      <td>0</td>\n",
       "      <td>1035779</td>\n",
       "      <td>26</td>\n",
       "      <td>0</td>\n",
       "      <td>1</td>\n",
       "      <td>1</td>\n",
       "      <td>(24, 30]</td>\n",
       "    </tr>\n",
       "    <tr>\n",
       "      <th>2</th>\n",
       "      <td>0</td>\n",
       "      <td>2016-11-01 06:42:41</td>\n",
       "      <td>131340580</td>\n",
       "      <td>13947748</td>\n",
       "      <td>0</td>\n",
       "      <td>20160902</td>\n",
       "      <td>0</td>\n",
       "      <td>2</td>\n",
       "      <td>224</td>\n",
       "      <td>0</td>\n",
       "      <td>0</td>\n",
       "      <td>0</td>\n",
       "      <td>4331004</td>\n",
       "      <td>26</td>\n",
       "      <td>0</td>\n",
       "      <td>2</td>\n",
       "      <td>1</td>\n",
       "      <td>(24, 30]</td>\n",
       "    </tr>\n",
       "    <tr>\n",
       "      <th>3</th>\n",
       "      <td>0</td>\n",
       "      <td>2016-11-01 06:43:02</td>\n",
       "      <td>131576046</td>\n",
       "      <td>13976722</td>\n",
       "      <td>0</td>\n",
       "      <td>20160906</td>\n",
       "      <td>0</td>\n",
       "      <td>2</td>\n",
       "      <td>210</td>\n",
       "      <td>0</td>\n",
       "      <td>0</td>\n",
       "      <td>0</td>\n",
       "      <td>3469</td>\n",
       "      <td>26</td>\n",
       "      <td>1</td>\n",
       "      <td>3</td>\n",
       "      <td>1</td>\n",
       "      <td>(24, 30]</td>\n",
       "    </tr>\n",
       "    <tr>\n",
       "      <th>4</th>\n",
       "      <td>0</td>\n",
       "      <td>2016-11-01 06:46:32</td>\n",
       "      <td>129011934</td>\n",
       "      <td>13640610</td>\n",
       "      <td>0</td>\n",
       "      <td>20160722</td>\n",
       "      <td>0</td>\n",
       "      <td>2</td>\n",
       "      <td>185</td>\n",
       "      <td>0</td>\n",
       "      <td>0</td>\n",
       "      <td>0</td>\n",
       "      <td>282118</td>\n",
       "      <td>26</td>\n",
       "      <td>1</td>\n",
       "      <td>4</td>\n",
       "      <td>1</td>\n",
       "      <td>(24, 30]</td>\n",
       "    </tr>\n",
       "  </tbody>\n",
       "</table>\n",
       "</div>"
      ],
      "text/plain": [
       "   genre_id            ts_listen   media_id  album_id  context_type  \\\n",
       "0         0  2016-10-31 18:49:35  122437314  12811130             0   \n",
       "1         0  2016-11-01 06:42:11  123339574  12920172             0   \n",
       "2         0  2016-11-01 06:42:41  131340580  13947748             0   \n",
       "3         0  2016-11-01 06:43:02  131576046  13976722             0   \n",
       "4         0  2016-11-01 06:46:32  129011934  13640610             0   \n",
       "\n",
       "   release_date  platform_name  platform_family  media_duration  listen_type  \\\n",
       "0      20160408              0                2             194            0   \n",
       "1      20160422              0                2             316            0   \n",
       "2      20160902              0                2             224            0   \n",
       "3      20160906              0                2             210            0   \n",
       "4      20160722              0                2             185            0   \n",
       "\n",
       "   user_gender  user_id  artist_id  user_age  is_listened  ID  fresh   agebins  \n",
       "0            0        0    7508018        26            1   0      1  (24, 30]  \n",
       "1            0        0    1035779        26            0   1      1  (24, 30]  \n",
       "2            0        0    4331004        26            0   2      1  (24, 30]  \n",
       "3            0        0       3469        26            1   3      1  (24, 30]  \n",
       "4            0        0     282118        26            1   4      1  (24, 30]  "
      ]
     },
     "execution_count": 143,
     "metadata": {},
     "output_type": "execute_result"
    }
   ],
   "source": [
    " df.head()"
   ]
  },
  {
   "cell_type": "code",
   "execution_count": 246,
   "metadata": {
    "collapsed": true
   },
   "outputs": [],
   "source": [
    "train1 = sortappended.loc[sortappended.train ==1]\n",
    "test1 = sortappended.loc[sortappended.train ==0]"
   ]
  },
  {
   "cell_type": "code",
   "execution_count": 142,
   "metadata": {
    "collapsed": true
   },
   "outputs": [],
   "source": [
    "df.drop('train',axis=1,inplace=True)"
   ]
  },
  {
   "cell_type": "code",
   "execution_count": 144,
   "metadata": {
    "collapsed": true
   },
   "outputs": [],
   "source": [
    "df.drop('ID',axis=1,inplace=True)"
   ]
  },
  {
   "cell_type": "code",
   "execution_count": 151,
   "metadata": {
    "collapsed": true
   },
   "outputs": [],
   "source": [
    "waste =  pd.read_csv(\"C:/Users/HP/Desktop/intern hackathon/train_yhC5guX/train.csv\")"
   ]
  },
  {
   "cell_type": "code",
   "execution_count": 152,
   "metadata": {
    "collapsed": true
   },
   "outputs": [],
   "source": [
    "ID = waste.ID"
   ]
  },
  {
   "cell_type": "code",
   "execution_count": 153,
   "metadata": {
    "collapsed": true
   },
   "outputs": [],
   "source": [
    "df['ID'] = ID"
   ]
  },
  {
   "cell_type": "code",
   "execution_count": 216,
   "metadata": {
    "collapsed": true
   },
   "outputs": [],
   "source": [
    "ndf = df.drop('agebins',axis=1)"
   ]
  },
  {
   "cell_type": "code",
   "execution_count": 247,
   "metadata": {},
   "outputs": [
    {
     "data": {
      "text/html": [
       "<div>\n",
       "<style>\n",
       "    .dataframe thead tr:only-child th {\n",
       "        text-align: right;\n",
       "    }\n",
       "\n",
       "    .dataframe thead th {\n",
       "        text-align: left;\n",
       "    }\n",
       "\n",
       "    .dataframe tbody tr th {\n",
       "        vertical-align: top;\n",
       "    }\n",
       "</style>\n",
       "<table border=\"1\" class=\"dataframe\">\n",
       "  <thead>\n",
       "    <tr style=\"text-align: right;\">\n",
       "      <th></th>\n",
       "      <th>ID</th>\n",
       "      <th>album_id</th>\n",
       "      <th>artist_id</th>\n",
       "      <th>context_type</th>\n",
       "      <th>genre_id</th>\n",
       "      <th>is_listened</th>\n",
       "      <th>listen_type</th>\n",
       "      <th>media_duration</th>\n",
       "      <th>media_id</th>\n",
       "      <th>platform_family</th>\n",
       "      <th>...</th>\n",
       "      <th>ts_listen</th>\n",
       "      <th>user_age</th>\n",
       "      <th>user_gender</th>\n",
       "      <th>user_id</th>\n",
       "      <th>k</th>\n",
       "      <th>fresh</th>\n",
       "      <th>old</th>\n",
       "      <th>count_user_artist_x</th>\n",
       "      <th>count_user_artist_y</th>\n",
       "      <th>count_user_artist</th>\n",
       "    </tr>\n",
       "  </thead>\n",
       "  <tbody>\n",
       "    <tr>\n",
       "      <th>0</th>\n",
       "      <td>0</td>\n",
       "      <td>12811130</td>\n",
       "      <td>7508018</td>\n",
       "      <td>0</td>\n",
       "      <td>0</td>\n",
       "      <td>1.0</td>\n",
       "      <td>0</td>\n",
       "      <td>194</td>\n",
       "      <td>122437314</td>\n",
       "      <td>2</td>\n",
       "      <td>...</td>\n",
       "      <td>2016-10-31 18:49:35</td>\n",
       "      <td>26</td>\n",
       "      <td>0</td>\n",
       "      <td>0</td>\n",
       "      <td>1</td>\n",
       "      <td>1</td>\n",
       "      <td>598</td>\n",
       "      <td>1</td>\n",
       "      <td>1</td>\n",
       "      <td>1</td>\n",
       "    </tr>\n",
       "    <tr>\n",
       "      <th>1</th>\n",
       "      <td>1</td>\n",
       "      <td>12920172</td>\n",
       "      <td>1035779</td>\n",
       "      <td>0</td>\n",
       "      <td>0</td>\n",
       "      <td>0.0</td>\n",
       "      <td>0</td>\n",
       "      <td>316</td>\n",
       "      <td>123339574</td>\n",
       "      <td>2</td>\n",
       "      <td>...</td>\n",
       "      <td>2016-11-01 06:42:11</td>\n",
       "      <td>26</td>\n",
       "      <td>0</td>\n",
       "      <td>0</td>\n",
       "      <td>1</td>\n",
       "      <td>1</td>\n",
       "      <td>598</td>\n",
       "      <td>1</td>\n",
       "      <td>1</td>\n",
       "      <td>1</td>\n",
       "    </tr>\n",
       "    <tr>\n",
       "      <th>2</th>\n",
       "      <td>2</td>\n",
       "      <td>13947748</td>\n",
       "      <td>4331004</td>\n",
       "      <td>0</td>\n",
       "      <td>0</td>\n",
       "      <td>0.0</td>\n",
       "      <td>0</td>\n",
       "      <td>224</td>\n",
       "      <td>131340580</td>\n",
       "      <td>2</td>\n",
       "      <td>...</td>\n",
       "      <td>2016-11-01 06:42:41</td>\n",
       "      <td>26</td>\n",
       "      <td>0</td>\n",
       "      <td>0</td>\n",
       "      <td>1</td>\n",
       "      <td>1</td>\n",
       "      <td>598</td>\n",
       "      <td>2</td>\n",
       "      <td>2</td>\n",
       "      <td>2</td>\n",
       "    </tr>\n",
       "    <tr>\n",
       "      <th>3</th>\n",
       "      <td>3</td>\n",
       "      <td>13976722</td>\n",
       "      <td>3469</td>\n",
       "      <td>0</td>\n",
       "      <td>0</td>\n",
       "      <td>1.0</td>\n",
       "      <td>0</td>\n",
       "      <td>210</td>\n",
       "      <td>131576046</td>\n",
       "      <td>2</td>\n",
       "      <td>...</td>\n",
       "      <td>2016-11-01 06:43:02</td>\n",
       "      <td>26</td>\n",
       "      <td>0</td>\n",
       "      <td>0</td>\n",
       "      <td>1</td>\n",
       "      <td>1</td>\n",
       "      <td>598</td>\n",
       "      <td>3</td>\n",
       "      <td>3</td>\n",
       "      <td>3</td>\n",
       "    </tr>\n",
       "    <tr>\n",
       "      <th>4</th>\n",
       "      <td>4</td>\n",
       "      <td>13640610</td>\n",
       "      <td>282118</td>\n",
       "      <td>0</td>\n",
       "      <td>0</td>\n",
       "      <td>1.0</td>\n",
       "      <td>0</td>\n",
       "      <td>185</td>\n",
       "      <td>129011934</td>\n",
       "      <td>2</td>\n",
       "      <td>...</td>\n",
       "      <td>2016-11-01 06:46:32</td>\n",
       "      <td>26</td>\n",
       "      <td>0</td>\n",
       "      <td>0</td>\n",
       "      <td>1</td>\n",
       "      <td>1</td>\n",
       "      <td>598</td>\n",
       "      <td>1</td>\n",
       "      <td>1</td>\n",
       "      <td>1</td>\n",
       "    </tr>\n",
       "  </tbody>\n",
       "</table>\n",
       "<p>5 rows × 23 columns</p>\n",
       "</div>"
      ],
      "text/plain": [
       "   ID  album_id  artist_id  context_type  genre_id  is_listened  listen_type  \\\n",
       "0   0  12811130    7508018             0         0          1.0            0   \n",
       "1   1  12920172    1035779             0         0          0.0            0   \n",
       "2   2  13947748    4331004             0         0          0.0            0   \n",
       "3   3  13976722       3469             0         0          1.0            0   \n",
       "4   4  13640610     282118             0         0          1.0            0   \n",
       "\n",
       "   media_duration   media_id  platform_family        ...          \\\n",
       "0             194  122437314                2        ...           \n",
       "1             316  123339574                2        ...           \n",
       "2             224  131340580                2        ...           \n",
       "3             210  131576046                2        ...           \n",
       "4             185  129011934                2        ...           \n",
       "\n",
       "            ts_listen user_age  user_gender user_id  k  fresh  old  \\\n",
       "0 2016-10-31 18:49:35       26            0       0  1      1  598   \n",
       "1 2016-11-01 06:42:11       26            0       0  1      1  598   \n",
       "2 2016-11-01 06:42:41       26            0       0  1      1  598   \n",
       "3 2016-11-01 06:43:02       26            0       0  1      1  598   \n",
       "4 2016-11-01 06:46:32       26            0       0  1      1  598   \n",
       "\n",
       "   count_user_artist_x  count_user_artist_y  count_user_artist  \n",
       "0                    1                    1                  1  \n",
       "1                    1                    1                  1  \n",
       "2                    2                    2                  2  \n",
       "3                    3                    3                  3  \n",
       "4                    1                    1                  1  \n",
       "\n",
       "[5 rows x 23 columns]"
      ]
     },
     "execution_count": 247,
     "metadata": {},
     "output_type": "execute_result"
    }
   ],
   "source": [
    "train1.head()"
   ]
  },
  {
   "cell_type": "code",
   "execution_count": 248,
   "metadata": {},
   "outputs": [
    {
     "data": {
      "text/html": [
       "<div>\n",
       "<style>\n",
       "    .dataframe thead tr:only-child th {\n",
       "        text-align: right;\n",
       "    }\n",
       "\n",
       "    .dataframe thead th {\n",
       "        text-align: left;\n",
       "    }\n",
       "\n",
       "    .dataframe tbody tr th {\n",
       "        vertical-align: top;\n",
       "    }\n",
       "</style>\n",
       "<table border=\"1\" class=\"dataframe\">\n",
       "  <thead>\n",
       "    <tr style=\"text-align: right;\">\n",
       "      <th></th>\n",
       "      <th>ID</th>\n",
       "      <th>album_id</th>\n",
       "      <th>artist_id</th>\n",
       "      <th>context_type</th>\n",
       "      <th>genre_id</th>\n",
       "      <th>is_listened</th>\n",
       "      <th>listen_type</th>\n",
       "      <th>media_duration</th>\n",
       "      <th>media_id</th>\n",
       "      <th>platform_family</th>\n",
       "      <th>...</th>\n",
       "      <th>ts_listen</th>\n",
       "      <th>user_age</th>\n",
       "      <th>user_gender</th>\n",
       "      <th>user_id</th>\n",
       "      <th>k</th>\n",
       "      <th>fresh</th>\n",
       "      <th>old</th>\n",
       "      <th>count_user_artist_x</th>\n",
       "      <th>count_user_artist_y</th>\n",
       "      <th>count_user_artist</th>\n",
       "    </tr>\n",
       "  </thead>\n",
       "  <tbody>\n",
       "    <tr>\n",
       "      <th>70</th>\n",
       "      <td>1053908</td>\n",
       "      <td>13976722</td>\n",
       "      <td>3469</td>\n",
       "      <td>0</td>\n",
       "      <td>0</td>\n",
       "      <td>NaN</td>\n",
       "      <td>0</td>\n",
       "      <td>210</td>\n",
       "      <td>131576046</td>\n",
       "      <td>0</td>\n",
       "      <td>...</td>\n",
       "      <td>2016-11-01 14:07:24</td>\n",
       "      <td>26</td>\n",
       "      <td>0</td>\n",
       "      <td>0</td>\n",
       "      <td>0</td>\n",
       "      <td>0</td>\n",
       "      <td>598</td>\n",
       "      <td>3</td>\n",
       "      <td>3</td>\n",
       "      <td>3</td>\n",
       "    </tr>\n",
       "    <tr>\n",
       "      <th>71</th>\n",
       "      <td>1053909</td>\n",
       "      <td>13203914</td>\n",
       "      <td>156870</td>\n",
       "      <td>0</td>\n",
       "      <td>0</td>\n",
       "      <td>NaN</td>\n",
       "      <td>0</td>\n",
       "      <td>235</td>\n",
       "      <td>125539808</td>\n",
       "      <td>0</td>\n",
       "      <td>...</td>\n",
       "      <td>2016-11-01 14:10:56</td>\n",
       "      <td>26</td>\n",
       "      <td>0</td>\n",
       "      <td>0</td>\n",
       "      <td>0</td>\n",
       "      <td>0</td>\n",
       "      <td>598</td>\n",
       "      <td>2</td>\n",
       "      <td>2</td>\n",
       "      <td>2</td>\n",
       "    </tr>\n",
       "    <tr>\n",
       "      <th>72</th>\n",
       "      <td>1053910</td>\n",
       "      <td>13196564</td>\n",
       "      <td>6937705</td>\n",
       "      <td>0</td>\n",
       "      <td>0</td>\n",
       "      <td>NaN</td>\n",
       "      <td>0</td>\n",
       "      <td>152</td>\n",
       "      <td>125481670</td>\n",
       "      <td>0</td>\n",
       "      <td>...</td>\n",
       "      <td>2016-11-01 14:14:52</td>\n",
       "      <td>26</td>\n",
       "      <td>0</td>\n",
       "      <td>0</td>\n",
       "      <td>0</td>\n",
       "      <td>0</td>\n",
       "      <td>598</td>\n",
       "      <td>2</td>\n",
       "      <td>2</td>\n",
       "      <td>2</td>\n",
       "    </tr>\n",
       "    <tr>\n",
       "      <th>73</th>\n",
       "      <td>1053911</td>\n",
       "      <td>8548975</td>\n",
       "      <td>5062414</td>\n",
       "      <td>0</td>\n",
       "      <td>25</td>\n",
       "      <td>NaN</td>\n",
       "      <td>0</td>\n",
       "      <td>241</td>\n",
       "      <td>84791735</td>\n",
       "      <td>0</td>\n",
       "      <td>...</td>\n",
       "      <td>2016-11-01 14:17:25</td>\n",
       "      <td>26</td>\n",
       "      <td>0</td>\n",
       "      <td>0</td>\n",
       "      <td>0</td>\n",
       "      <td>0</td>\n",
       "      <td>598</td>\n",
       "      <td>2</td>\n",
       "      <td>2</td>\n",
       "      <td>2</td>\n",
       "    </tr>\n",
       "    <tr>\n",
       "      <th>74</th>\n",
       "      <td>1053912</td>\n",
       "      <td>9629010</td>\n",
       "      <td>5523632</td>\n",
       "      <td>0</td>\n",
       "      <td>27</td>\n",
       "      <td>NaN</td>\n",
       "      <td>0</td>\n",
       "      <td>201</td>\n",
       "      <td>94652218</td>\n",
       "      <td>0</td>\n",
       "      <td>...</td>\n",
       "      <td>2016-11-01 14:21:27</td>\n",
       "      <td>26</td>\n",
       "      <td>0</td>\n",
       "      <td>0</td>\n",
       "      <td>0</td>\n",
       "      <td>0</td>\n",
       "      <td>598</td>\n",
       "      <td>6</td>\n",
       "      <td>6</td>\n",
       "      <td>6</td>\n",
       "    </tr>\n",
       "  </tbody>\n",
       "</table>\n",
       "<p>5 rows × 23 columns</p>\n",
       "</div>"
      ],
      "text/plain": [
       "         ID  album_id  artist_id  context_type  genre_id  is_listened  \\\n",
       "70  1053908  13976722       3469             0         0          NaN   \n",
       "71  1053909  13203914     156870             0         0          NaN   \n",
       "72  1053910  13196564    6937705             0         0          NaN   \n",
       "73  1053911   8548975    5062414             0        25          NaN   \n",
       "74  1053912   9629010    5523632             0        27          NaN   \n",
       "\n",
       "    listen_type  media_duration   media_id  platform_family  \\\n",
       "70            0             210  131576046                0   \n",
       "71            0             235  125539808                0   \n",
       "72            0             152  125481670                0   \n",
       "73            0             241   84791735                0   \n",
       "74            0             201   94652218                0   \n",
       "\n",
       "          ...                   ts_listen user_age  user_gender user_id  k  \\\n",
       "70        ...         2016-11-01 14:07:24       26            0       0  0   \n",
       "71        ...         2016-11-01 14:10:56       26            0       0  0   \n",
       "72        ...         2016-11-01 14:14:52       26            0       0  0   \n",
       "73        ...         2016-11-01 14:17:25       26            0       0  0   \n",
       "74        ...         2016-11-01 14:21:27       26            0       0  0   \n",
       "\n",
       "    fresh  old  count_user_artist_x  count_user_artist_y  count_user_artist  \n",
       "70      0  598                    3                    3                  3  \n",
       "71      0  598                    2                    2                  2  \n",
       "72      0  598                    2                    2                  2  \n",
       "73      0  598                    2                    2                  2  \n",
       "74      0  598                    6                    6                  6  \n",
       "\n",
       "[5 rows x 23 columns]"
      ]
     },
     "execution_count": 248,
     "metadata": {},
     "output_type": "execute_result"
    }
   ],
   "source": [
    "test1.head()"
   ]
  },
  {
   "cell_type": "code",
   "execution_count": 249,
   "metadata": {},
   "outputs": [
    {
     "name": "stderr",
     "output_type": "stream",
     "text": [
      "C:\\Users\\HP\\Anaconda3\\lib\\site-packages\\ipykernel_launcher.py:1: SettingWithCopyWarning: \n",
      "A value is trying to be set on a copy of a slice from a DataFrame\n",
      "\n",
      "See the caveats in the documentation: http://pandas.pydata.org/pandas-docs/stable/indexing.html#indexing-view-versus-copy\n",
      "  \"\"\"Entry point for launching an IPython kernel.\n"
     ]
    }
   ],
   "source": [
    "train1.drop(['k','count_user_artist_x','count_user_artist_y'],axis=1,inplace=True)"
   ]
  },
  {
   "cell_type": "code",
   "execution_count": 250,
   "metadata": {},
   "outputs": [
    {
     "name": "stderr",
     "output_type": "stream",
     "text": [
      "C:\\Users\\HP\\Anaconda3\\lib\\site-packages\\ipykernel_launcher.py:1: SettingWithCopyWarning: \n",
      "A value is trying to be set on a copy of a slice from a DataFrame\n",
      "\n",
      "See the caveats in the documentation: http://pandas.pydata.org/pandas-docs/stable/indexing.html#indexing-view-versus-copy\n",
      "  \"\"\"Entry point for launching an IPython kernel.\n"
     ]
    }
   ],
   "source": [
    "test1.drop(['k','count_user_artist_x','count_user_artist_y'],axis=1,inplace=True)"
   ]
  },
  {
   "cell_type": "code",
   "execution_count": 252,
   "metadata": {},
   "outputs": [
    {
     "name": "stderr",
     "output_type": "stream",
     "text": [
      "C:\\Users\\HP\\Anaconda3\\lib\\site-packages\\ipykernel_launcher.py:1: SettingWithCopyWarning: \n",
      "A value is trying to be set on a copy of a slice from a DataFrame\n",
      "\n",
      "See the caveats in the documentation: http://pandas.pydata.org/pandas-docs/stable/indexing.html#indexing-view-versus-copy\n",
      "  \"\"\"Entry point for launching an IPython kernel.\n"
     ]
    }
   ],
   "source": [
    "test1.drop('is_listened',axis=1,inplace=True)"
   ]
  },
  {
   "cell_type": "code",
   "execution_count": 254,
   "metadata": {},
   "outputs": [
    {
     "data": {
      "text/plain": [
       "Index(['ID', 'album_id', 'artist_id', 'context_type', 'genre_id',\n",
       "       'listen_type', 'media_duration', 'media_id', 'platform_family',\n",
       "       'platform_name', 'release_date', 'train', 'ts_listen', 'user_age',\n",
       "       'user_gender', 'user_id', 'fresh', 'old', 'count_user_artist'],\n",
       "      dtype='object')"
      ]
     },
     "execution_count": 254,
     "metadata": {},
     "output_type": "execute_result"
    }
   ],
   "source": [
    "test1.columns"
   ]
  },
  {
   "cell_type": "code",
   "execution_count": 267,
   "metadata": {},
   "outputs": [
    {
     "data": {
      "text/plain": [
       "Index(['genre_id', 'ts_listen', 'media_id', 'album_id', 'context_type',\n",
       "       'release_date', 'platform_name', 'platform_family', 'media_duration',\n",
       "       'listen_type', 'user_gender', 'user_id', 'artist_id', 'user_age',\n",
       "       'is_listened', 'fresh', 'ID', 'old'],\n",
       "      dtype='object')"
      ]
     },
     "execution_count": 267,
     "metadata": {},
     "output_type": "execute_result"
    }
   ],
   "source": [
    "df.columns"
   ]
  },
  {
   "cell_type": "code",
   "execution_count": 256,
   "metadata": {},
   "outputs": [
    {
     "data": {
      "text/plain": [
       "(554932, 19)"
      ]
     },
     "execution_count": 256,
     "metadata": {},
     "output_type": "execute_result"
    }
   ],
   "source": [
    "test1.shape"
   ]
  },
  {
   "cell_type": "code",
   "execution_count": 259,
   "metadata": {
    "collapsed": true
   },
   "outputs": [],
   "source": [
    "df.drop('agebins',axis=1,inplace=True)"
   ]
  },
  {
   "cell_type": "code",
   "execution_count": 318,
   "metadata": {
    "collapsed": true
   },
   "outputs": [],
   "source": [
    "df.drop('old',axis=1,inplace=True)"
   ]
  },
  {
   "cell_type": "code",
   "execution_count": 360,
   "metadata": {
    "collapsed": true
   },
   "outputs": [],
   "source": [
    "test2 = test1.drop(['old','count_user_artist'],axis=1)"
   ]
  },
  {
   "cell_type": "code",
   "execution_count": 386,
   "metadata": {
    "collapsed": true
   },
   "outputs": [],
   "source": [
    "sortappended.drop(['count_user_artist_x','count_user_artist_y'],axis=1,inplace=True)"
   ]
  },
  {
   "cell_type": "code",
   "execution_count": 390,
   "metadata": {},
   "outputs": [
    {
     "data": {
      "text/plain": [
       "Index(['ID', 'album_id', 'artist_id', 'context_type', 'genre_id',\n",
       "       'is_listened', 'listen_type', 'media_duration', 'media_id',\n",
       "       'platform_family', 'platform_name', 'release_date', 'train',\n",
       "       'ts_listen', 'user_age', 'user_gender', 'user_id', 'fresh', 'old',\n",
       "       'count_user_artist'],\n",
       "      dtype='object')"
      ]
     },
     "execution_count": 390,
     "metadata": {},
     "output_type": "execute_result"
    }
   ],
   "source": [
    "sortappended.drop('k',axis=1,inplace=True)\n",
    "sortappended.columns"
   ]
  },
  {
   "cell_type": "code",
   "execution_count": 396,
   "metadata": {
    "collapsed": true
   },
   "outputs": [],
   "source": [
    "train1 = sortappended.loc[sortappended.train ==1]\n",
    "test1 = sortappended.loc[sortappended.train ==0]"
   ]
  },
  {
   "cell_type": "code",
   "execution_count": 397,
   "metadata": {
    "collapsed": true
   },
   "outputs": [],
   "source": [
    "df1 = train1.drop(['fresh','old'],axis=1)"
   ]
  },
  {
   "cell_type": "code",
   "execution_count": 398,
   "metadata": {
    "collapsed": true
   },
   "outputs": [],
   "source": [
    "test2 = test1.drop(['fresh','old'],axis=1)"
   ]
  },
  {
   "cell_type": "markdown",
   "metadata": {},
   "source": [
    "## feature generation on training set only"
   ]
  },
  {
   "cell_type": "markdown",
   "metadata": {},
   "source": [
    "# time of day feature"
   ]
  },
  {
   "cell_type": "code",
   "execution_count": 14,
   "metadata": {
    "collapsed": true
   },
   "outputs": [],
   "source": [
    "hours = pd.to_datetime(df_train.ts_listen, format = '%Y-%m-%d %H:%M:%S').dt.hour\n",
    "slots = [-1,6,9,18,22,24]\n",
    "hour_slots = pd.cut(hours,slots)\n",
    "df_train['time_of_day']= hour_slots"
   ]
  },
  {
   "cell_type": "code",
   "execution_count": 15,
   "metadata": {},
   "outputs": [
    {
     "name": "stderr",
     "output_type": "stream",
     "text": [
      "C:\\Users\\HP\\Anaconda3\\lib\\site-packages\\ipykernel_launcher.py:4: SettingWithCopyWarning: \n",
      "A value is trying to be set on a copy of a slice from a DataFrame.\n",
      "Try using .loc[row_indexer,col_indexer] = value instead\n",
      "\n",
      "See the caveats in the documentation: http://pandas.pydata.org/pandas-docs/stable/indexing.html#indexing-view-versus-copy\n",
      "  after removing the cwd from sys.path.\n"
     ]
    }
   ],
   "source": [
    "hours = pd.to_datetime(df_cv.ts_listen, format = '%Y-%m-%d %H:%M:%S').dt.hour\n",
    "slots = [-1,6,9,18,22,24]\n",
    "hour_slots = pd.cut(hours,slots)\n",
    "df_cv['time_of_day']= hour_slots"
   ]
  },
  {
   "cell_type": "code",
   "execution_count": 16,
   "metadata": {
    "collapsed": true
   },
   "outputs": [],
   "source": [
    "hours = pd.to_datetime(test.ts_listen, format = '%Y-%m-%d %H:%M:%S').dt.hour\n",
    "slots = [-1,6,9,18,22,24]\n",
    "hour_slots = pd.cut(hours,slots)\n",
    "test['time_of_day']= hour_slots"
   ]
  },
  {
   "cell_type": "markdown",
   "metadata": {},
   "source": [
    "# favourite genre\n"
   ]
  },
  {
   "cell_type": "code",
   "execution_count": 17,
   "metadata": {
    "collapsed": true
   },
   "outputs": [],
   "source": [
    "genre_count = df_train[['media_id','user_id','genre_id']].groupby(['user_id','genre_id']).agg('count').reset_index()"
   ]
  },
  {
   "cell_type": "code",
   "execution_count": 18,
   "metadata": {},
   "outputs": [
    {
     "data": {
      "text/html": [
       "<div>\n",
       "<style>\n",
       "    .dataframe thead tr:only-child th {\n",
       "        text-align: right;\n",
       "    }\n",
       "\n",
       "    .dataframe thead th {\n",
       "        text-align: left;\n",
       "    }\n",
       "\n",
       "    .dataframe tbody tr th {\n",
       "        vertical-align: top;\n",
       "    }\n",
       "</style>\n",
       "<table border=\"1\" class=\"dataframe\">\n",
       "  <thead>\n",
       "    <tr style=\"text-align: right;\">\n",
       "      <th></th>\n",
       "      <th>user_id</th>\n",
       "      <th>genre_id</th>\n",
       "      <th>user_genre_count</th>\n",
       "    </tr>\n",
       "  </thead>\n",
       "  <tbody>\n",
       "    <tr>\n",
       "      <th>0</th>\n",
       "      <td>0</td>\n",
       "      <td>0</td>\n",
       "      <td>40</td>\n",
       "    </tr>\n",
       "    <tr>\n",
       "      <th>1</th>\n",
       "      <td>1</td>\n",
       "      <td>0</td>\n",
       "      <td>37</td>\n",
       "    </tr>\n",
       "    <tr>\n",
       "      <th>2</th>\n",
       "      <td>1</td>\n",
       "      <td>7</td>\n",
       "      <td>1</td>\n",
       "    </tr>\n",
       "    <tr>\n",
       "      <th>3</th>\n",
       "      <td>1</td>\n",
       "      <td>9</td>\n",
       "      <td>1</td>\n",
       "    </tr>\n",
       "    <tr>\n",
       "      <th>4</th>\n",
       "      <td>1</td>\n",
       "      <td>745</td>\n",
       "      <td>1</td>\n",
       "    </tr>\n",
       "    <tr>\n",
       "      <th>5</th>\n",
       "      <td>2</td>\n",
       "      <td>0</td>\n",
       "      <td>10</td>\n",
       "    </tr>\n",
       "    <tr>\n",
       "      <th>6</th>\n",
       "      <td>2</td>\n",
       "      <td>3</td>\n",
       "      <td>1</td>\n",
       "    </tr>\n",
       "    <tr>\n",
       "      <th>7</th>\n",
       "      <td>2</td>\n",
       "      <td>7</td>\n",
       "      <td>9</td>\n",
       "    </tr>\n",
       "    <tr>\n",
       "      <th>8</th>\n",
       "      <td>2</td>\n",
       "      <td>14</td>\n",
       "      <td>2</td>\n",
       "    </tr>\n",
       "    <tr>\n",
       "      <th>9</th>\n",
       "      <td>2</td>\n",
       "      <td>18</td>\n",
       "      <td>1</td>\n",
       "    </tr>\n",
       "    <tr>\n",
       "      <th>10</th>\n",
       "      <td>2</td>\n",
       "      <td>25</td>\n",
       "      <td>2</td>\n",
       "    </tr>\n",
       "    <tr>\n",
       "      <th>11</th>\n",
       "      <td>2</td>\n",
       "      <td>27</td>\n",
       "      <td>1</td>\n",
       "    </tr>\n",
       "    <tr>\n",
       "      <th>12</th>\n",
       "      <td>2</td>\n",
       "      <td>50</td>\n",
       "      <td>5</td>\n",
       "    </tr>\n",
       "    <tr>\n",
       "      <th>13</th>\n",
       "      <td>2</td>\n",
       "      <td>77</td>\n",
       "      <td>1</td>\n",
       "    </tr>\n",
       "    <tr>\n",
       "      <th>14</th>\n",
       "      <td>2</td>\n",
       "      <td>297</td>\n",
       "      <td>1</td>\n",
       "    </tr>\n",
       "    <tr>\n",
       "      <th>15</th>\n",
       "      <td>2</td>\n",
       "      <td>734</td>\n",
       "      <td>1</td>\n",
       "    </tr>\n",
       "    <tr>\n",
       "      <th>16</th>\n",
       "      <td>2</td>\n",
       "      <td>1178</td>\n",
       "      <td>1</td>\n",
       "    </tr>\n",
       "    <tr>\n",
       "      <th>17</th>\n",
       "      <td>2</td>\n",
       "      <td>2686</td>\n",
       "      <td>1</td>\n",
       "    </tr>\n",
       "    <tr>\n",
       "      <th>18</th>\n",
       "      <td>2</td>\n",
       "      <td>2744</td>\n",
       "      <td>3</td>\n",
       "    </tr>\n",
       "    <tr>\n",
       "      <th>19</th>\n",
       "      <td>2</td>\n",
       "      <td>109085</td>\n",
       "      <td>1</td>\n",
       "    </tr>\n",
       "    <tr>\n",
       "      <th>20</th>\n",
       "      <td>3</td>\n",
       "      <td>0</td>\n",
       "      <td>8</td>\n",
       "    </tr>\n",
       "    <tr>\n",
       "      <th>21</th>\n",
       "      <td>3</td>\n",
       "      <td>1</td>\n",
       "      <td>1</td>\n",
       "    </tr>\n",
       "    <tr>\n",
       "      <th>22</th>\n",
       "      <td>3</td>\n",
       "      <td>2</td>\n",
       "      <td>3</td>\n",
       "    </tr>\n",
       "    <tr>\n",
       "      <th>23</th>\n",
       "      <td>3</td>\n",
       "      <td>7</td>\n",
       "      <td>3</td>\n",
       "    </tr>\n",
       "    <tr>\n",
       "      <th>24</th>\n",
       "      <td>3</td>\n",
       "      <td>9</td>\n",
       "      <td>1</td>\n",
       "    </tr>\n",
       "    <tr>\n",
       "      <th>25</th>\n",
       "      <td>3</td>\n",
       "      <td>14</td>\n",
       "      <td>1</td>\n",
       "    </tr>\n",
       "    <tr>\n",
       "      <th>26</th>\n",
       "      <td>3</td>\n",
       "      <td>18</td>\n",
       "      <td>3</td>\n",
       "    </tr>\n",
       "    <tr>\n",
       "      <th>27</th>\n",
       "      <td>3</td>\n",
       "      <td>23</td>\n",
       "      <td>1</td>\n",
       "    </tr>\n",
       "    <tr>\n",
       "      <th>28</th>\n",
       "      <td>3</td>\n",
       "      <td>77</td>\n",
       "      <td>3</td>\n",
       "    </tr>\n",
       "    <tr>\n",
       "      <th>29</th>\n",
       "      <td>3</td>\n",
       "      <td>253</td>\n",
       "      <td>1</td>\n",
       "    </tr>\n",
       "    <tr>\n",
       "      <th>...</th>\n",
       "      <td>...</td>\n",
       "      <td>...</td>\n",
       "      <td>...</td>\n",
       "    </tr>\n",
       "    <tr>\n",
       "      <th>114821</th>\n",
       "      <td>15193</td>\n",
       "      <td>0</td>\n",
       "      <td>1</td>\n",
       "    </tr>\n",
       "    <tr>\n",
       "      <th>114822</th>\n",
       "      <td>15194</td>\n",
       "      <td>0</td>\n",
       "      <td>1</td>\n",
       "    </tr>\n",
       "    <tr>\n",
       "      <th>114823</th>\n",
       "      <td>15195</td>\n",
       "      <td>2</td>\n",
       "      <td>1</td>\n",
       "    </tr>\n",
       "    <tr>\n",
       "      <th>114824</th>\n",
       "      <td>15196</td>\n",
       "      <td>0</td>\n",
       "      <td>1</td>\n",
       "    </tr>\n",
       "    <tr>\n",
       "      <th>114825</th>\n",
       "      <td>15197</td>\n",
       "      <td>0</td>\n",
       "      <td>1</td>\n",
       "    </tr>\n",
       "    <tr>\n",
       "      <th>114826</th>\n",
       "      <td>15198</td>\n",
       "      <td>0</td>\n",
       "      <td>1</td>\n",
       "    </tr>\n",
       "    <tr>\n",
       "      <th>114827</th>\n",
       "      <td>15199</td>\n",
       "      <td>0</td>\n",
       "      <td>1</td>\n",
       "    </tr>\n",
       "    <tr>\n",
       "      <th>114828</th>\n",
       "      <td>15200</td>\n",
       "      <td>0</td>\n",
       "      <td>1</td>\n",
       "    </tr>\n",
       "    <tr>\n",
       "      <th>114829</th>\n",
       "      <td>15201</td>\n",
       "      <td>2533</td>\n",
       "      <td>1</td>\n",
       "    </tr>\n",
       "    <tr>\n",
       "      <th>114830</th>\n",
       "      <td>15202</td>\n",
       "      <td>7</td>\n",
       "      <td>1</td>\n",
       "    </tr>\n",
       "    <tr>\n",
       "      <th>114831</th>\n",
       "      <td>15203</td>\n",
       "      <td>0</td>\n",
       "      <td>1</td>\n",
       "    </tr>\n",
       "    <tr>\n",
       "      <th>114832</th>\n",
       "      <td>15204</td>\n",
       "      <td>9</td>\n",
       "      <td>1</td>\n",
       "    </tr>\n",
       "    <tr>\n",
       "      <th>114833</th>\n",
       "      <td>15205</td>\n",
       "      <td>0</td>\n",
       "      <td>1</td>\n",
       "    </tr>\n",
       "    <tr>\n",
       "      <th>114834</th>\n",
       "      <td>15206</td>\n",
       "      <td>0</td>\n",
       "      <td>1</td>\n",
       "    </tr>\n",
       "    <tr>\n",
       "      <th>114835</th>\n",
       "      <td>15207</td>\n",
       "      <td>0</td>\n",
       "      <td>1</td>\n",
       "    </tr>\n",
       "    <tr>\n",
       "      <th>114836</th>\n",
       "      <td>15208</td>\n",
       "      <td>0</td>\n",
       "      <td>1</td>\n",
       "    </tr>\n",
       "    <tr>\n",
       "      <th>114837</th>\n",
       "      <td>15209</td>\n",
       "      <td>7</td>\n",
       "      <td>1</td>\n",
       "    </tr>\n",
       "    <tr>\n",
       "      <th>114838</th>\n",
       "      <td>15210</td>\n",
       "      <td>0</td>\n",
       "      <td>1</td>\n",
       "    </tr>\n",
       "    <tr>\n",
       "      <th>114839</th>\n",
       "      <td>15211</td>\n",
       "      <td>0</td>\n",
       "      <td>1</td>\n",
       "    </tr>\n",
       "    <tr>\n",
       "      <th>114840</th>\n",
       "      <td>15212</td>\n",
       "      <td>0</td>\n",
       "      <td>1</td>\n",
       "    </tr>\n",
       "    <tr>\n",
       "      <th>114841</th>\n",
       "      <td>15213</td>\n",
       "      <td>0</td>\n",
       "      <td>1</td>\n",
       "    </tr>\n",
       "    <tr>\n",
       "      <th>114842</th>\n",
       "      <td>15214</td>\n",
       "      <td>7</td>\n",
       "      <td>1</td>\n",
       "    </tr>\n",
       "    <tr>\n",
       "      <th>114843</th>\n",
       "      <td>15215</td>\n",
       "      <td>0</td>\n",
       "      <td>1</td>\n",
       "    </tr>\n",
       "    <tr>\n",
       "      <th>114844</th>\n",
       "      <td>15216</td>\n",
       "      <td>0</td>\n",
       "      <td>1</td>\n",
       "    </tr>\n",
       "    <tr>\n",
       "      <th>114845</th>\n",
       "      <td>15217</td>\n",
       "      <td>0</td>\n",
       "      <td>1</td>\n",
       "    </tr>\n",
       "    <tr>\n",
       "      <th>114846</th>\n",
       "      <td>15218</td>\n",
       "      <td>18</td>\n",
       "      <td>1</td>\n",
       "    </tr>\n",
       "    <tr>\n",
       "      <th>114847</th>\n",
       "      <td>15219</td>\n",
       "      <td>0</td>\n",
       "      <td>1</td>\n",
       "    </tr>\n",
       "    <tr>\n",
       "      <th>114848</th>\n",
       "      <td>15220</td>\n",
       "      <td>1130</td>\n",
       "      <td>1</td>\n",
       "    </tr>\n",
       "    <tr>\n",
       "      <th>114849</th>\n",
       "      <td>15221</td>\n",
       "      <td>0</td>\n",
       "      <td>1</td>\n",
       "    </tr>\n",
       "    <tr>\n",
       "      <th>114850</th>\n",
       "      <td>15222</td>\n",
       "      <td>0</td>\n",
       "      <td>1</td>\n",
       "    </tr>\n",
       "  </tbody>\n",
       "</table>\n",
       "<p>114851 rows × 3 columns</p>\n",
       "</div>"
      ],
      "text/plain": [
       "        user_id  genre_id  user_genre_count\n",
       "0             0         0                40\n",
       "1             1         0                37\n",
       "2             1         7                 1\n",
       "3             1         9                 1\n",
       "4             1       745                 1\n",
       "5             2         0                10\n",
       "6             2         3                 1\n",
       "7             2         7                 9\n",
       "8             2        14                 2\n",
       "9             2        18                 1\n",
       "10            2        25                 2\n",
       "11            2        27                 1\n",
       "12            2        50                 5\n",
       "13            2        77                 1\n",
       "14            2       297                 1\n",
       "15            2       734                 1\n",
       "16            2      1178                 1\n",
       "17            2      2686                 1\n",
       "18            2      2744                 3\n",
       "19            2    109085                 1\n",
       "20            3         0                 8\n",
       "21            3         1                 1\n",
       "22            3         2                 3\n",
       "23            3         7                 3\n",
       "24            3         9                 1\n",
       "25            3        14                 1\n",
       "26            3        18                 3\n",
       "27            3        23                 1\n",
       "28            3        77                 3\n",
       "29            3       253                 1\n",
       "...         ...       ...               ...\n",
       "114821    15193         0                 1\n",
       "114822    15194         0                 1\n",
       "114823    15195         2                 1\n",
       "114824    15196         0                 1\n",
       "114825    15197         0                 1\n",
       "114826    15198         0                 1\n",
       "114827    15199         0                 1\n",
       "114828    15200         0                 1\n",
       "114829    15201      2533                 1\n",
       "114830    15202         7                 1\n",
       "114831    15203         0                 1\n",
       "114832    15204         9                 1\n",
       "114833    15205         0                 1\n",
       "114834    15206         0                 1\n",
       "114835    15207         0                 1\n",
       "114836    15208         0                 1\n",
       "114837    15209         7                 1\n",
       "114838    15210         0                 1\n",
       "114839    15211         0                 1\n",
       "114840    15212         0                 1\n",
       "114841    15213         0                 1\n",
       "114842    15214         7                 1\n",
       "114843    15215         0                 1\n",
       "114844    15216         0                 1\n",
       "114845    15217         0                 1\n",
       "114846    15218        18                 1\n",
       "114847    15219         0                 1\n",
       "114848    15220      1130                 1\n",
       "114849    15221         0                 1\n",
       "114850    15222         0                 1\n",
       "\n",
       "[114851 rows x 3 columns]"
      ]
     },
     "execution_count": 18,
     "metadata": {},
     "output_type": "execute_result"
    }
   ],
   "source": [
    "genre_count.columns = ['user_id','genre_id','user_genre_count']\n",
    "genre_count"
   ]
  },
  {
   "cell_type": "code",
   "execution_count": 19,
   "metadata": {
    "collapsed": true
   },
   "outputs": [],
   "source": [
    "df_train= df_train.merge(genre_count,how = 'left',on = ['user_id','genre_id'])"
   ]
  },
  {
   "cell_type": "code",
   "execution_count": 20,
   "metadata": {},
   "outputs": [
    {
     "data": {
      "text/html": [
       "<div>\n",
       "<style>\n",
       "    .dataframe thead tr:only-child th {\n",
       "        text-align: right;\n",
       "    }\n",
       "\n",
       "    .dataframe thead th {\n",
       "        text-align: left;\n",
       "    }\n",
       "\n",
       "    .dataframe tbody tr th {\n",
       "        vertical-align: top;\n",
       "    }\n",
       "</style>\n",
       "<table border=\"1\" class=\"dataframe\">\n",
       "  <thead>\n",
       "    <tr style=\"text-align: right;\">\n",
       "      <th></th>\n",
       "      <th>genre_id</th>\n",
       "      <th>ts_listen</th>\n",
       "      <th>media_id</th>\n",
       "      <th>album_id</th>\n",
       "      <th>context_type</th>\n",
       "      <th>release_date</th>\n",
       "      <th>platform_name</th>\n",
       "      <th>platform_family</th>\n",
       "      <th>media_duration</th>\n",
       "      <th>listen_type</th>\n",
       "      <th>user_gender</th>\n",
       "      <th>user_id</th>\n",
       "      <th>artist_id</th>\n",
       "      <th>user_age</th>\n",
       "      <th>is_listened</th>\n",
       "      <th>ID</th>\n",
       "      <th>time_of_day</th>\n",
       "      <th>user_genre_count</th>\n",
       "    </tr>\n",
       "  </thead>\n",
       "  <tbody>\n",
       "    <tr>\n",
       "      <th>0</th>\n",
       "      <td>0</td>\n",
       "      <td>2016-10-31 18:49:35</td>\n",
       "      <td>122437314</td>\n",
       "      <td>12811130</td>\n",
       "      <td>0</td>\n",
       "      <td>20160408</td>\n",
       "      <td>0</td>\n",
       "      <td>2</td>\n",
       "      <td>194</td>\n",
       "      <td>0</td>\n",
       "      <td>0</td>\n",
       "      <td>0</td>\n",
       "      <td>7508018</td>\n",
       "      <td>26</td>\n",
       "      <td>1</td>\n",
       "      <td>0</td>\n",
       "      <td>(9, 18]</td>\n",
       "      <td>40</td>\n",
       "    </tr>\n",
       "    <tr>\n",
       "      <th>1</th>\n",
       "      <td>0</td>\n",
       "      <td>2016-11-01 06:42:11</td>\n",
       "      <td>123339574</td>\n",
       "      <td>12920172</td>\n",
       "      <td>0</td>\n",
       "      <td>20160422</td>\n",
       "      <td>0</td>\n",
       "      <td>2</td>\n",
       "      <td>316</td>\n",
       "      <td>0</td>\n",
       "      <td>0</td>\n",
       "      <td>0</td>\n",
       "      <td>1035779</td>\n",
       "      <td>26</td>\n",
       "      <td>0</td>\n",
       "      <td>1</td>\n",
       "      <td>(-1, 6]</td>\n",
       "      <td>40</td>\n",
       "    </tr>\n",
       "    <tr>\n",
       "      <th>2</th>\n",
       "      <td>0</td>\n",
       "      <td>2016-11-01 06:42:41</td>\n",
       "      <td>131340580</td>\n",
       "      <td>13947748</td>\n",
       "      <td>0</td>\n",
       "      <td>20160902</td>\n",
       "      <td>0</td>\n",
       "      <td>2</td>\n",
       "      <td>224</td>\n",
       "      <td>0</td>\n",
       "      <td>0</td>\n",
       "      <td>0</td>\n",
       "      <td>4331004</td>\n",
       "      <td>26</td>\n",
       "      <td>0</td>\n",
       "      <td>2</td>\n",
       "      <td>(-1, 6]</td>\n",
       "      <td>40</td>\n",
       "    </tr>\n",
       "    <tr>\n",
       "      <th>3</th>\n",
       "      <td>0</td>\n",
       "      <td>2016-11-01 06:43:02</td>\n",
       "      <td>131576046</td>\n",
       "      <td>13976722</td>\n",
       "      <td>0</td>\n",
       "      <td>20160906</td>\n",
       "      <td>0</td>\n",
       "      <td>2</td>\n",
       "      <td>210</td>\n",
       "      <td>0</td>\n",
       "      <td>0</td>\n",
       "      <td>0</td>\n",
       "      <td>3469</td>\n",
       "      <td>26</td>\n",
       "      <td>1</td>\n",
       "      <td>3</td>\n",
       "      <td>(-1, 6]</td>\n",
       "      <td>40</td>\n",
       "    </tr>\n",
       "    <tr>\n",
       "      <th>4</th>\n",
       "      <td>0</td>\n",
       "      <td>2016-11-01 06:46:32</td>\n",
       "      <td>129011934</td>\n",
       "      <td>13640610</td>\n",
       "      <td>0</td>\n",
       "      <td>20160722</td>\n",
       "      <td>0</td>\n",
       "      <td>2</td>\n",
       "      <td>185</td>\n",
       "      <td>0</td>\n",
       "      <td>0</td>\n",
       "      <td>0</td>\n",
       "      <td>282118</td>\n",
       "      <td>26</td>\n",
       "      <td>1</td>\n",
       "      <td>4</td>\n",
       "      <td>(-1, 6]</td>\n",
       "      <td>40</td>\n",
       "    </tr>\n",
       "  </tbody>\n",
       "</table>\n",
       "</div>"
      ],
      "text/plain": [
       "   genre_id            ts_listen   media_id  album_id  context_type  \\\n",
       "0         0  2016-10-31 18:49:35  122437314  12811130             0   \n",
       "1         0  2016-11-01 06:42:11  123339574  12920172             0   \n",
       "2         0  2016-11-01 06:42:41  131340580  13947748             0   \n",
       "3         0  2016-11-01 06:43:02  131576046  13976722             0   \n",
       "4         0  2016-11-01 06:46:32  129011934  13640610             0   \n",
       "\n",
       "   release_date  platform_name  platform_family  media_duration  listen_type  \\\n",
       "0      20160408              0                2             194            0   \n",
       "1      20160422              0                2             316            0   \n",
       "2      20160902              0                2             224            0   \n",
       "3      20160906              0                2             210            0   \n",
       "4      20160722              0                2             185            0   \n",
       "\n",
       "   user_gender  user_id  artist_id  user_age  is_listened  ID time_of_day  \\\n",
       "0            0        0    7508018        26            1   0     (9, 18]   \n",
       "1            0        0    1035779        26            0   1     (-1, 6]   \n",
       "2            0        0    4331004        26            0   2     (-1, 6]   \n",
       "3            0        0       3469        26            1   3     (-1, 6]   \n",
       "4            0        0     282118        26            1   4     (-1, 6]   \n",
       "\n",
       "   user_genre_count  \n",
       "0                40  \n",
       "1                40  \n",
       "2                40  \n",
       "3                40  \n",
       "4                40  "
      ]
     },
     "execution_count": 20,
     "metadata": {},
     "output_type": "execute_result"
    }
   ],
   "source": [
    "df_train.head()"
   ]
  },
  {
   "cell_type": "code",
   "execution_count": 21,
   "metadata": {},
   "outputs": [
    {
     "data": {
      "text/plain": [
       "genre_id            0\n",
       "ts_listen           0\n",
       "media_id            0\n",
       "album_id            0\n",
       "context_type        0\n",
       "release_date        0\n",
       "platform_name       0\n",
       "platform_family     0\n",
       "media_duration      0\n",
       "listen_type         0\n",
       "user_gender         0\n",
       "user_id             0\n",
       "artist_id           0\n",
       "user_age            0\n",
       "is_listened         0\n",
       "ID                  0\n",
       "time_of_day         0\n",
       "user_genre_count    0\n",
       "dtype: int64"
      ]
     },
     "execution_count": 21,
     "metadata": {},
     "output_type": "execute_result"
    }
   ],
   "source": [
    "df_train.isnull().sum()"
   ]
  },
  {
   "cell_type": "code",
   "execution_count": 22,
   "metadata": {
    "collapsed": true
   },
   "outputs": [],
   "source": [
    "df_cv= df_cv.merge(genre_count,how = 'left',on = ['user_id','genre_id'])"
   ]
  },
  {
   "cell_type": "code",
   "execution_count": 23,
   "metadata": {},
   "outputs": [
    {
     "data": {
      "text/plain": [
       "genre_id                 0\n",
       "ts_listen                0\n",
       "media_id                 0\n",
       "album_id                 0\n",
       "context_type             0\n",
       "release_date             0\n",
       "platform_name            0\n",
       "platform_family          0\n",
       "media_duration           0\n",
       "listen_type              0\n",
       "user_gender              0\n",
       "user_id                  0\n",
       "artist_id                0\n",
       "user_age                 0\n",
       "is_listened              0\n",
       "ID                       0\n",
       "time_of_day              0\n",
       "user_genre_count    107950\n",
       "dtype: int64"
      ]
     },
     "execution_count": 23,
     "metadata": {},
     "output_type": "execute_result"
    }
   ],
   "source": [
    "df_cv.isnull().sum()"
   ]
  },
  {
   "cell_type": "code",
   "execution_count": 24,
   "metadata": {
    "collapsed": true
   },
   "outputs": [],
   "source": [
    "df_cv.user_genre_count.fillna(-1,inplace=True)"
   ]
  },
  {
   "cell_type": "code",
   "execution_count": 25,
   "metadata": {
    "collapsed": true
   },
   "outputs": [],
   "source": [
    "test= test.merge(genre_count,how = 'left',on = ['user_id','genre_id'])"
   ]
  },
  {
   "cell_type": "code",
   "execution_count": 26,
   "metadata": {},
   "outputs": [
    {
     "data": {
      "text/plain": [
       "genre_id                 0\n",
       "ts_listen                0\n",
       "media_id                 0\n",
       "album_id                 0\n",
       "context_type             0\n",
       "release_date             0\n",
       "platform_name            0\n",
       "platform_family          0\n",
       "media_duration           0\n",
       "listen_type              0\n",
       "user_gender              0\n",
       "user_id                  0\n",
       "artist_id                0\n",
       "user_age                 0\n",
       "ID                       0\n",
       "time_of_day              0\n",
       "user_genre_count    191067\n",
       "dtype: int64"
      ]
     },
     "execution_count": 26,
     "metadata": {},
     "output_type": "execute_result"
    }
   ],
   "source": [
    "test.isnull().sum()"
   ]
  },
  {
   "cell_type": "code",
   "execution_count": 27,
   "metadata": {
    "collapsed": true
   },
   "outputs": [],
   "source": [
    "test.user_genre_count.fillna(-1,inplace=True)"
   ]
  },
  {
   "cell_type": "markdown",
   "metadata": {},
   "source": [
    "## meshing around with context\n"
   ]
  },
  {
   "cell_type": "code",
   "execution_count": 28,
   "metadata": {
    "collapsed": true
   },
   "outputs": [],
   "source": [
    "user_context = df_train[['platform_family','user_id','context_type']].groupby(['user_id','context_type']).agg('count').reset_index()"
   ]
  },
  {
   "cell_type": "code",
   "execution_count": 29,
   "metadata": {
    "collapsed": true
   },
   "outputs": [],
   "source": [
    "user_context.columns = ['user_id','context_type','user_context_frequency']"
   ]
  },
  {
   "cell_type": "code",
   "execution_count": 30,
   "metadata": {
    "collapsed": true
   },
   "outputs": [],
   "source": [
    "df_train = df_train.merge(user_context,how='left',on=['user_id','context_type'])"
   ]
  },
  {
   "cell_type": "code",
   "execution_count": 31,
   "metadata": {},
   "outputs": [
    {
     "data": {
      "text/plain": [
       "genre_id                  0\n",
       "ts_listen                 0\n",
       "media_id                  0\n",
       "album_id                  0\n",
       "context_type              0\n",
       "release_date              0\n",
       "platform_name             0\n",
       "platform_family           0\n",
       "media_duration            0\n",
       "listen_type               0\n",
       "user_gender               0\n",
       "user_id                   0\n",
       "artist_id                 0\n",
       "user_age                  0\n",
       "is_listened               0\n",
       "ID                        0\n",
       "time_of_day               0\n",
       "user_genre_count          0\n",
       "user_context_frequency    0\n",
       "dtype: int64"
      ]
     },
     "execution_count": 31,
     "metadata": {},
     "output_type": "execute_result"
    }
   ],
   "source": [
    "df_train.isnull().sum()"
   ]
  },
  {
   "cell_type": "code",
   "execution_count": 32,
   "metadata": {
    "collapsed": true
   },
   "outputs": [],
   "source": [
    "df_cv = df_cv.merge(user_context,how='left',on=['user_id','context_type'])"
   ]
  },
  {
   "cell_type": "code",
   "execution_count": 33,
   "metadata": {},
   "outputs": [
    {
     "data": {
      "text/plain": [
       "genre_id                      0\n",
       "ts_listen                     0\n",
       "media_id                      0\n",
       "album_id                      0\n",
       "context_type                  0\n",
       "release_date                  0\n",
       "platform_name                 0\n",
       "platform_family               0\n",
       "media_duration                0\n",
       "listen_type                   0\n",
       "user_gender                   0\n",
       "user_id                       0\n",
       "artist_id                     0\n",
       "user_age                      0\n",
       "is_listened                   0\n",
       "ID                            0\n",
       "time_of_day                   0\n",
       "user_genre_count              0\n",
       "user_context_frequency    92799\n",
       "dtype: int64"
      ]
     },
     "execution_count": 33,
     "metadata": {},
     "output_type": "execute_result"
    }
   ],
   "source": [
    "df_cv.isnull().sum()"
   ]
  },
  {
   "cell_type": "code",
   "execution_count": 34,
   "metadata": {
    "collapsed": true
   },
   "outputs": [],
   "source": [
    "df_cv.user_context_frequency.fillna(-1,inplace=True)"
   ]
  },
  {
   "cell_type": "code",
   "execution_count": 35,
   "metadata": {
    "collapsed": true
   },
   "outputs": [],
   "source": [
    "test = test.merge(user_context,how='left',on=['user_id','context_type'])"
   ]
  },
  {
   "cell_type": "code",
   "execution_count": 36,
   "metadata": {},
   "outputs": [
    {
     "data": {
      "text/plain": [
       "genre_id                       0\n",
       "ts_listen                      0\n",
       "media_id                       0\n",
       "album_id                       0\n",
       "context_type                   0\n",
       "release_date                   0\n",
       "platform_name                  0\n",
       "platform_family                0\n",
       "media_duration                 0\n",
       "listen_type                    0\n",
       "user_gender                    0\n",
       "user_id                        0\n",
       "artist_id                      0\n",
       "user_age                       0\n",
       "ID                             0\n",
       "time_of_day                    0\n",
       "user_genre_count               0\n",
       "user_context_frequency    198587\n",
       "dtype: int64"
      ]
     },
     "execution_count": 36,
     "metadata": {},
     "output_type": "execute_result"
    }
   ],
   "source": [
    "test.isnull().sum()"
   ]
  },
  {
   "cell_type": "code",
   "execution_count": 37,
   "metadata": {
    "collapsed": true
   },
   "outputs": [],
   "source": [
    "test.user_context_frequency.fillna(-1,inplace=True)"
   ]
  },
  {
   "cell_type": "markdown",
   "metadata": {},
   "source": [
    "# listen type"
   ]
  },
  {
   "cell_type": "code",
   "execution_count": 38,
   "metadata": {
    "collapsed": true
   },
   "outputs": [],
   "source": [
    "dflisten = df_train[['platform_name','user_id','media_id','listen_type']].groupby(['user_id','media_id','listen_type']).agg('count').reset_index()"
   ]
  },
  {
   "cell_type": "code",
   "execution_count": 39,
   "metadata": {
    "collapsed": true
   },
   "outputs": [],
   "source": [
    "dflisten.columns= ['user_id','media_id','listen_type','flow_break_frequency']"
   ]
  },
  {
   "cell_type": "code",
   "execution_count": 40,
   "metadata": {
    "collapsed": true
   },
   "outputs": [],
   "source": [
    "dflisten = dflisten.loc[(dflisten.flow_break_frequency>=5) & (dflisten.listen_type == 1)]"
   ]
  },
  {
   "cell_type": "code",
   "execution_count": 41,
   "metadata": {
    "collapsed": true
   },
   "outputs": [],
   "source": [
    "dflisten.drop('listen_type',axis=1,inplace=True)"
   ]
  },
  {
   "cell_type": "code",
   "execution_count": 42,
   "metadata": {
    "collapsed": true
   },
   "outputs": [],
   "source": [
    "df_train = df_train.merge(dflisten,how='left',on=['user_id','media_id'])"
   ]
  },
  {
   "cell_type": "code",
   "execution_count": 43,
   "metadata": {},
   "outputs": [
    {
     "data": {
      "text/plain": [
       "genre_id                       0\n",
       "ts_listen                      0\n",
       "media_id                       0\n",
       "album_id                       0\n",
       "context_type                   0\n",
       "release_date                   0\n",
       "platform_name                  0\n",
       "platform_family                0\n",
       "media_duration                 0\n",
       "listen_type                    0\n",
       "user_gender                    0\n",
       "user_id                        0\n",
       "artist_id                      0\n",
       "user_age                       0\n",
       "is_listened                    0\n",
       "ID                             0\n",
       "time_of_day                    0\n",
       "user_genre_count               0\n",
       "user_context_frequency         0\n",
       "flow_break_frequency      567197\n",
       "dtype: int64"
      ]
     },
     "execution_count": 43,
     "metadata": {},
     "output_type": "execute_result"
    }
   ],
   "source": [
    "df_train.isnull().sum()"
   ]
  },
  {
   "cell_type": "code",
   "execution_count": 44,
   "metadata": {},
   "outputs": [
    {
     "data": {
      "text/plain": [
       "(567594, 20)"
      ]
     },
     "execution_count": 44,
     "metadata": {},
     "output_type": "execute_result"
    }
   ],
   "source": [
    "df_train.shape"
   ]
  },
  {
   "cell_type": "code",
   "execution_count": 45,
   "metadata": {
    "collapsed": true
   },
   "outputs": [],
   "source": [
    "df_train.flow_break_frequency.fillna(-1,inplace=True)"
   ]
  },
  {
   "cell_type": "code",
   "execution_count": 46,
   "metadata": {
    "collapsed": true
   },
   "outputs": [],
   "source": [
    "df_cv = df_cv.merge(dflisten,how='left',on=['user_id','media_id'])"
   ]
  },
  {
   "cell_type": "code",
   "execution_count": 47,
   "metadata": {},
   "outputs": [
    {
     "data": {
      "text/plain": [
       "genre_id                       0\n",
       "ts_listen                      0\n",
       "media_id                       0\n",
       "album_id                       0\n",
       "context_type                   0\n",
       "release_date                   0\n",
       "platform_name                  0\n",
       "platform_family                0\n",
       "media_duration                 0\n",
       "listen_type                    0\n",
       "user_gender                    0\n",
       "user_id                        0\n",
       "artist_id                      0\n",
       "user_age                       0\n",
       "is_listened                    0\n",
       "ID                             0\n",
       "time_of_day                    0\n",
       "user_genre_count               0\n",
       "user_context_frequency         0\n",
       "flow_break_frequency      486134\n",
       "dtype: int64"
      ]
     },
     "execution_count": 47,
     "metadata": {},
     "output_type": "execute_result"
    }
   ],
   "source": [
    "df_cv.isnull().sum()"
   ]
  },
  {
   "cell_type": "code",
   "execution_count": 48,
   "metadata": {
    "collapsed": true
   },
   "outputs": [],
   "source": [
    "df_cv.flow_break_frequency.fillna(-1,inplace=True)"
   ]
  },
  {
   "cell_type": "code",
   "execution_count": 49,
   "metadata": {
    "collapsed": true
   },
   "outputs": [],
   "source": [
    "test = test.merge(dflisten,how='left',on=['user_id','media_id'])"
   ]
  },
  {
   "cell_type": "code",
   "execution_count": 50,
   "metadata": {
    "collapsed": true
   },
   "outputs": [],
   "source": [
    "test.flow_break_frequency.fillna(-1,inplace=True)"
   ]
  },
  {
   "cell_type": "markdown",
   "metadata": {},
   "source": [
    "##  hit albums"
   ]
  },
  {
   "cell_type": "code",
   "execution_count": 51,
   "metadata": {
    "collapsed": true
   },
   "outputs": [],
   "source": [
    "hit_or_not = df_train.album_id.value_counts()>1000\n",
    "hit_or_not = pd.DataFrame(hit_or_not).reset_index()"
   ]
  },
  {
   "cell_type": "code",
   "execution_count": 52,
   "metadata": {
    "collapsed": true
   },
   "outputs": [],
   "source": [
    "hit_or_not.columns= ['album_id','hit']"
   ]
  },
  {
   "cell_type": "code",
   "execution_count": 53,
   "metadata": {
    "collapsed": true
   },
   "outputs": [],
   "source": [
    "df_train=df_train.merge(hit_or_not,how='left',on='album_id')"
   ]
  },
  {
   "cell_type": "code",
   "execution_count": 54,
   "metadata": {},
   "outputs": [
    {
     "data": {
      "text/plain": [
       "genre_id                  0\n",
       "ts_listen                 0\n",
       "media_id                  0\n",
       "album_id                  0\n",
       "context_type              0\n",
       "release_date              0\n",
       "platform_name             0\n",
       "platform_family           0\n",
       "media_duration            0\n",
       "listen_type               0\n",
       "user_gender               0\n",
       "user_id                   0\n",
       "artist_id                 0\n",
       "user_age                  0\n",
       "is_listened               0\n",
       "ID                        0\n",
       "time_of_day               0\n",
       "user_genre_count          0\n",
       "user_context_frequency    0\n",
       "flow_break_frequency      0\n",
       "hit                       0\n",
       "dtype: int64"
      ]
     },
     "execution_count": 54,
     "metadata": {},
     "output_type": "execute_result"
    }
   ],
   "source": [
    "df_train.isnull().sum()"
   ]
  },
  {
   "cell_type": "code",
   "execution_count": 55,
   "metadata": {
    "collapsed": true
   },
   "outputs": [],
   "source": [
    "df_cv=df_cv.merge(hit_or_not,how='left',on='album_id')"
   ]
  },
  {
   "cell_type": "code",
   "execution_count": 56,
   "metadata": {},
   "outputs": [
    {
     "data": {
      "text/plain": [
       "genre_id                      0\n",
       "ts_listen                     0\n",
       "media_id                      0\n",
       "album_id                      0\n",
       "context_type                  0\n",
       "release_date                  0\n",
       "platform_name                 0\n",
       "platform_family               0\n",
       "media_duration                0\n",
       "listen_type                   0\n",
       "user_gender                   0\n",
       "user_id                       0\n",
       "artist_id                     0\n",
       "user_age                      0\n",
       "is_listened                   0\n",
       "ID                            0\n",
       "time_of_day                   0\n",
       "user_genre_count              0\n",
       "user_context_frequency        0\n",
       "flow_break_frequency          0\n",
       "hit                       28547\n",
       "dtype: int64"
      ]
     },
     "execution_count": 56,
     "metadata": {},
     "output_type": "execute_result"
    }
   ],
   "source": [
    "df_cv.isnull().sum()"
   ]
  },
  {
   "cell_type": "code",
   "execution_count": 57,
   "metadata": {
    "collapsed": true
   },
   "outputs": [],
   "source": [
    "df_cv.hit.fillna(-1,inplace=True)"
   ]
  },
  {
   "cell_type": "code",
   "execution_count": 58,
   "metadata": {
    "collapsed": true
   },
   "outputs": [],
   "source": [
    "test=test.merge(hit_or_not,how='left',on='album_id')"
   ]
  },
  {
   "cell_type": "code",
   "execution_count": 59,
   "metadata": {},
   "outputs": [
    {
     "data": {
      "text/plain": [
       "genre_id                      0\n",
       "ts_listen                     0\n",
       "media_id                      0\n",
       "album_id                      0\n",
       "context_type                  0\n",
       "release_date                  0\n",
       "platform_name                 0\n",
       "platform_family               0\n",
       "media_duration                0\n",
       "listen_type                   0\n",
       "user_gender                   0\n",
       "user_id                       0\n",
       "artist_id                     0\n",
       "user_age                      0\n",
       "ID                            0\n",
       "time_of_day                   0\n",
       "user_genre_count              0\n",
       "user_context_frequency        0\n",
       "flow_break_frequency          0\n",
       "hit                       36123\n",
       "dtype: int64"
      ]
     },
     "execution_count": 59,
     "metadata": {},
     "output_type": "execute_result"
    }
   ],
   "source": [
    "test.isnull().sum()"
   ]
  },
  {
   "cell_type": "code",
   "execution_count": 60,
   "metadata": {
    "collapsed": true
   },
   "outputs": [],
   "source": [
    "test.hit.fillna(-1,inplace=True)"
   ]
  },
  {
   "cell_type": "markdown",
   "metadata": {},
   "source": [
    "## genre coupled with album - which album of a particular genre is hit\n"
   ]
  },
  {
   "cell_type": "code",
   "execution_count": 61,
   "metadata": {
    "collapsed": true
   },
   "outputs": [],
   "source": [
    "genre_album_count = df[['platform_name','genre_id','album_id']].groupby(['genre_id','album_id']).agg('count').reset_index()"
   ]
  },
  {
   "cell_type": "code",
   "execution_count": 62,
   "metadata": {
    "collapsed": true
   },
   "outputs": [],
   "source": [
    " newdf=genre_album_count.loc[(genre_album_count.platform_name>=100)]"
   ]
  },
  {
   "cell_type": "code",
   "execution_count": 63,
   "metadata": {},
   "outputs": [
    {
     "data": {
      "text/html": [
       "<div>\n",
       "<style>\n",
       "    .dataframe thead tr:only-child th {\n",
       "        text-align: right;\n",
       "    }\n",
       "\n",
       "    .dataframe thead th {\n",
       "        text-align: left;\n",
       "    }\n",
       "\n",
       "    .dataframe tbody tr th {\n",
       "        vertical-align: top;\n",
       "    }\n",
       "</style>\n",
       "<table border=\"1\" class=\"dataframe\">\n",
       "  <thead>\n",
       "    <tr style=\"text-align: right;\">\n",
       "      <th></th>\n",
       "      <th>genre_id</th>\n",
       "      <th>album_id</th>\n",
       "      <th>platform_name</th>\n",
       "    </tr>\n",
       "  </thead>\n",
       "  <tbody>\n",
       "    <tr>\n",
       "      <th>14</th>\n",
       "      <td>0</td>\n",
       "      <td>124322</td>\n",
       "      <td>144</td>\n",
       "    </tr>\n",
       "    <tr>\n",
       "      <th>36</th>\n",
       "      <td>0</td>\n",
       "      <td>229886</td>\n",
       "      <td>101</td>\n",
       "    </tr>\n",
       "    <tr>\n",
       "      <th>364</th>\n",
       "      <td>0</td>\n",
       "      <td>9816028</td>\n",
       "      <td>435</td>\n",
       "    </tr>\n",
       "    <tr>\n",
       "      <th>365</th>\n",
       "      <td>0</td>\n",
       "      <td>9816268</td>\n",
       "      <td>141</td>\n",
       "    </tr>\n",
       "    <tr>\n",
       "      <th>401</th>\n",
       "      <td>0</td>\n",
       "      <td>9818886</td>\n",
       "      <td>173</td>\n",
       "    </tr>\n",
       "    <tr>\n",
       "      <th>536</th>\n",
       "      <td>0</td>\n",
       "      <td>9854614</td>\n",
       "      <td>579</td>\n",
       "    </tr>\n",
       "    <tr>\n",
       "      <th>571</th>\n",
       "      <td>0</td>\n",
       "      <td>9859372</td>\n",
       "      <td>112</td>\n",
       "    </tr>\n",
       "    <tr>\n",
       "      <th>591</th>\n",
       "      <td>0</td>\n",
       "      <td>9863416</td>\n",
       "      <td>213</td>\n",
       "    </tr>\n",
       "    <tr>\n",
       "      <th>688</th>\n",
       "      <td>0</td>\n",
       "      <td>9884332</td>\n",
       "      <td>209</td>\n",
       "    </tr>\n",
       "    <tr>\n",
       "      <th>690</th>\n",
       "      <td>0</td>\n",
       "      <td>9884672</td>\n",
       "      <td>147</td>\n",
       "    </tr>\n",
       "    <tr>\n",
       "      <th>741</th>\n",
       "      <td>0</td>\n",
       "      <td>9896728</td>\n",
       "      <td>199</td>\n",
       "    </tr>\n",
       "    <tr>\n",
       "      <th>798</th>\n",
       "      <td>0</td>\n",
       "      <td>9907558</td>\n",
       "      <td>147</td>\n",
       "    </tr>\n",
       "    <tr>\n",
       "      <th>817</th>\n",
       "      <td>0</td>\n",
       "      <td>9909966</td>\n",
       "      <td>181</td>\n",
       "    </tr>\n",
       "    <tr>\n",
       "      <th>818</th>\n",
       "      <td>0</td>\n",
       "      <td>9910226</td>\n",
       "      <td>371</td>\n",
       "    </tr>\n",
       "    <tr>\n",
       "      <th>847</th>\n",
       "      <td>0</td>\n",
       "      <td>9922006</td>\n",
       "      <td>432</td>\n",
       "    </tr>\n",
       "    <tr>\n",
       "      <th>964</th>\n",
       "      <td>0</td>\n",
       "      <td>9956818</td>\n",
       "      <td>219</td>\n",
       "    </tr>\n",
       "    <tr>\n",
       "      <th>965</th>\n",
       "      <td>0</td>\n",
       "      <td>9956834</td>\n",
       "      <td>126</td>\n",
       "    </tr>\n",
       "    <tr>\n",
       "      <th>1037</th>\n",
       "      <td>0</td>\n",
       "      <td>9974144</td>\n",
       "      <td>155</td>\n",
       "    </tr>\n",
       "    <tr>\n",
       "      <th>1049</th>\n",
       "      <td>0</td>\n",
       "      <td>9992398</td>\n",
       "      <td>321</td>\n",
       "    </tr>\n",
       "    <tr>\n",
       "      <th>1095</th>\n",
       "      <td>0</td>\n",
       "      <td>10008800</td>\n",
       "      <td>189</td>\n",
       "    </tr>\n",
       "    <tr>\n",
       "      <th>1137</th>\n",
       "      <td>0</td>\n",
       "      <td>10017266</td>\n",
       "      <td>347</td>\n",
       "    </tr>\n",
       "    <tr>\n",
       "      <th>1194</th>\n",
       "      <td>0</td>\n",
       "      <td>10034066</td>\n",
       "      <td>186</td>\n",
       "    </tr>\n",
       "    <tr>\n",
       "      <th>1215</th>\n",
       "      <td>0</td>\n",
       "      <td>10038198</td>\n",
       "      <td>1005</td>\n",
       "    </tr>\n",
       "    <tr>\n",
       "      <th>1236</th>\n",
       "      <td>0</td>\n",
       "      <td>10043304</td>\n",
       "      <td>278</td>\n",
       "    </tr>\n",
       "    <tr>\n",
       "      <th>1260</th>\n",
       "      <td>0</td>\n",
       "      <td>10047454</td>\n",
       "      <td>260</td>\n",
       "    </tr>\n",
       "    <tr>\n",
       "      <th>1326</th>\n",
       "      <td>0</td>\n",
       "      <td>10071110</td>\n",
       "      <td>297</td>\n",
       "    </tr>\n",
       "    <tr>\n",
       "      <th>1331</th>\n",
       "      <td>0</td>\n",
       "      <td>10071820</td>\n",
       "      <td>800</td>\n",
       "    </tr>\n",
       "    <tr>\n",
       "      <th>1376</th>\n",
       "      <td>0</td>\n",
       "      <td>10086066</td>\n",
       "      <td>100</td>\n",
       "    </tr>\n",
       "    <tr>\n",
       "      <th>1378</th>\n",
       "      <td>0</td>\n",
       "      <td>10086234</td>\n",
       "      <td>205</td>\n",
       "    </tr>\n",
       "    <tr>\n",
       "      <th>1425</th>\n",
       "      <td>0</td>\n",
       "      <td>10099334</td>\n",
       "      <td>170</td>\n",
       "    </tr>\n",
       "    <tr>\n",
       "      <th>...</th>\n",
       "      <td>...</td>\n",
       "      <td>...</td>\n",
       "      <td>...</td>\n",
       "    </tr>\n",
       "    <tr>\n",
       "      <th>55882</th>\n",
       "      <td>9164</td>\n",
       "      <td>9635804</td>\n",
       "      <td>256</td>\n",
       "    </tr>\n",
       "    <tr>\n",
       "      <th>55918</th>\n",
       "      <td>9165</td>\n",
       "      <td>7441191</td>\n",
       "      <td>159</td>\n",
       "    </tr>\n",
       "    <tr>\n",
       "      <th>56581</th>\n",
       "      <td>25471</td>\n",
       "      <td>1175898</td>\n",
       "      <td>100</td>\n",
       "    </tr>\n",
       "    <tr>\n",
       "      <th>56595</th>\n",
       "      <td>25471</td>\n",
       "      <td>1333744</td>\n",
       "      <td>149</td>\n",
       "    </tr>\n",
       "    <tr>\n",
       "      <th>56636</th>\n",
       "      <td>25471</td>\n",
       "      <td>3616761</td>\n",
       "      <td>247</td>\n",
       "    </tr>\n",
       "    <tr>\n",
       "      <th>56868</th>\n",
       "      <td>25481</td>\n",
       "      <td>604257</td>\n",
       "      <td>126</td>\n",
       "    </tr>\n",
       "    <tr>\n",
       "      <th>56907</th>\n",
       "      <td>25481</td>\n",
       "      <td>1259714</td>\n",
       "      <td>531</td>\n",
       "    </tr>\n",
       "    <tr>\n",
       "      <th>56989</th>\n",
       "      <td>25481</td>\n",
       "      <td>6053935</td>\n",
       "      <td>290</td>\n",
       "    </tr>\n",
       "    <tr>\n",
       "      <th>57000</th>\n",
       "      <td>25481</td>\n",
       "      <td>6160538</td>\n",
       "      <td>122</td>\n",
       "    </tr>\n",
       "    <tr>\n",
       "      <th>57002</th>\n",
       "      <td>25481</td>\n",
       "      <td>6197819</td>\n",
       "      <td>172</td>\n",
       "    </tr>\n",
       "    <tr>\n",
       "      <th>57086</th>\n",
       "      <td>25481</td>\n",
       "      <td>7829774</td>\n",
       "      <td>111</td>\n",
       "    </tr>\n",
       "    <tr>\n",
       "      <th>57173</th>\n",
       "      <td>25491</td>\n",
       "      <td>714160</td>\n",
       "      <td>142</td>\n",
       "    </tr>\n",
       "    <tr>\n",
       "      <th>57208</th>\n",
       "      <td>25511</td>\n",
       "      <td>626134</td>\n",
       "      <td>118</td>\n",
       "    </tr>\n",
       "    <tr>\n",
       "      <th>57216</th>\n",
       "      <td>25511</td>\n",
       "      <td>923965</td>\n",
       "      <td>135</td>\n",
       "    </tr>\n",
       "    <tr>\n",
       "      <th>57312</th>\n",
       "      <td>25521</td>\n",
       "      <td>42218</td>\n",
       "      <td>235</td>\n",
       "    </tr>\n",
       "    <tr>\n",
       "      <th>57416</th>\n",
       "      <td>25521</td>\n",
       "      <td>9585142</td>\n",
       "      <td>145</td>\n",
       "    </tr>\n",
       "    <tr>\n",
       "      <th>57934</th>\n",
       "      <td>25591</td>\n",
       "      <td>215422</td>\n",
       "      <td>134</td>\n",
       "    </tr>\n",
       "    <tr>\n",
       "      <th>58218</th>\n",
       "      <td>25681</td>\n",
       "      <td>6526742</td>\n",
       "      <td>139</td>\n",
       "    </tr>\n",
       "    <tr>\n",
       "      <th>58276</th>\n",
       "      <td>25711</td>\n",
       "      <td>923831</td>\n",
       "      <td>153</td>\n",
       "    </tr>\n",
       "    <tr>\n",
       "      <th>59052</th>\n",
       "      <td>26051</td>\n",
       "      <td>1267919</td>\n",
       "      <td>174</td>\n",
       "    </tr>\n",
       "    <tr>\n",
       "      <th>59693</th>\n",
       "      <td>26421</td>\n",
       "      <td>9577634</td>\n",
       "      <td>179</td>\n",
       "    </tr>\n",
       "    <tr>\n",
       "      <th>59933</th>\n",
       "      <td>26661</td>\n",
       "      <td>1621349</td>\n",
       "      <td>109</td>\n",
       "    </tr>\n",
       "    <tr>\n",
       "      <th>60223</th>\n",
       "      <td>27191</td>\n",
       "      <td>1534156</td>\n",
       "      <td>185</td>\n",
       "    </tr>\n",
       "    <tr>\n",
       "      <th>60227</th>\n",
       "      <td>27191</td>\n",
       "      <td>1638342</td>\n",
       "      <td>133</td>\n",
       "    </tr>\n",
       "    <tr>\n",
       "      <th>60722</th>\n",
       "      <td>32361</td>\n",
       "      <td>1626836</td>\n",
       "      <td>154</td>\n",
       "    </tr>\n",
       "    <tr>\n",
       "      <th>61217</th>\n",
       "      <td>103755</td>\n",
       "      <td>1395707</td>\n",
       "      <td>224</td>\n",
       "    </tr>\n",
       "    <tr>\n",
       "      <th>61290</th>\n",
       "      <td>105985</td>\n",
       "      <td>7562672</td>\n",
       "      <td>172</td>\n",
       "    </tr>\n",
       "    <tr>\n",
       "      <th>61532</th>\n",
       "      <td>107395</td>\n",
       "      <td>6353739</td>\n",
       "      <td>139</td>\n",
       "    </tr>\n",
       "    <tr>\n",
       "      <th>61810</th>\n",
       "      <td>107615</td>\n",
       "      <td>9427626</td>\n",
       "      <td>115</td>\n",
       "    </tr>\n",
       "    <tr>\n",
       "      <th>63148</th>\n",
       "      <td>133895</td>\n",
       "      <td>9372662</td>\n",
       "      <td>124</td>\n",
       "    </tr>\n",
       "  </tbody>\n",
       "</table>\n",
       "<p>1588 rows × 3 columns</p>\n",
       "</div>"
      ],
      "text/plain": [
       "       genre_id  album_id  platform_name\n",
       "14            0    124322            144\n",
       "36            0    229886            101\n",
       "364           0   9816028            435\n",
       "365           0   9816268            141\n",
       "401           0   9818886            173\n",
       "536           0   9854614            579\n",
       "571           0   9859372            112\n",
       "591           0   9863416            213\n",
       "688           0   9884332            209\n",
       "690           0   9884672            147\n",
       "741           0   9896728            199\n",
       "798           0   9907558            147\n",
       "817           0   9909966            181\n",
       "818           0   9910226            371\n",
       "847           0   9922006            432\n",
       "964           0   9956818            219\n",
       "965           0   9956834            126\n",
       "1037          0   9974144            155\n",
       "1049          0   9992398            321\n",
       "1095          0  10008800            189\n",
       "1137          0  10017266            347\n",
       "1194          0  10034066            186\n",
       "1215          0  10038198           1005\n",
       "1236          0  10043304            278\n",
       "1260          0  10047454            260\n",
       "1326          0  10071110            297\n",
       "1331          0  10071820            800\n",
       "1376          0  10086066            100\n",
       "1378          0  10086234            205\n",
       "1425          0  10099334            170\n",
       "...         ...       ...            ...\n",
       "55882      9164   9635804            256\n",
       "55918      9165   7441191            159\n",
       "56581     25471   1175898            100\n",
       "56595     25471   1333744            149\n",
       "56636     25471   3616761            247\n",
       "56868     25481    604257            126\n",
       "56907     25481   1259714            531\n",
       "56989     25481   6053935            290\n",
       "57000     25481   6160538            122\n",
       "57002     25481   6197819            172\n",
       "57086     25481   7829774            111\n",
       "57173     25491    714160            142\n",
       "57208     25511    626134            118\n",
       "57216     25511    923965            135\n",
       "57312     25521     42218            235\n",
       "57416     25521   9585142            145\n",
       "57934     25591    215422            134\n",
       "58218     25681   6526742            139\n",
       "58276     25711    923831            153\n",
       "59052     26051   1267919            174\n",
       "59693     26421   9577634            179\n",
       "59933     26661   1621349            109\n",
       "60223     27191   1534156            185\n",
       "60227     27191   1638342            133\n",
       "60722     32361   1626836            154\n",
       "61217    103755   1395707            224\n",
       "61290    105985   7562672            172\n",
       "61532    107395   6353739            139\n",
       "61810    107615   9427626            115\n",
       "63148    133895   9372662            124\n",
       "\n",
       "[1588 rows x 3 columns]"
      ]
     },
     "execution_count": 63,
     "metadata": {},
     "output_type": "execute_result"
    }
   ],
   "source": [
    "newdf"
   ]
  },
  {
   "cell_type": "code",
   "execution_count": 64,
   "metadata": {},
   "outputs": [
    {
     "name": "stderr",
     "output_type": "stream",
     "text": [
      "C:\\Users\\HP\\Anaconda3\\lib\\site-packages\\ipykernel_launcher.py:1: SettingWithCopyWarning: \n",
      "A value is trying to be set on a copy of a slice from a DataFrame.\n",
      "Try using .loc[row_indexer,col_indexer] = value instead\n",
      "\n",
      "See the caveats in the documentation: http://pandas.pydata.org/pandas-docs/stable/indexing.html#indexing-view-versus-copy\n",
      "  \"\"\"Entry point for launching an IPython kernel.\n"
     ]
    }
   ],
   "source": [
    "newdf['hit_album_in_genre'] = True"
   ]
  },
  {
   "cell_type": "code",
   "execution_count": 65,
   "metadata": {},
   "outputs": [
    {
     "name": "stderr",
     "output_type": "stream",
     "text": [
      "C:\\Users\\HP\\Anaconda3\\lib\\site-packages\\ipykernel_launcher.py:1: SettingWithCopyWarning: \n",
      "A value is trying to be set on a copy of a slice from a DataFrame\n",
      "\n",
      "See the caveats in the documentation: http://pandas.pydata.org/pandas-docs/stable/indexing.html#indexing-view-versus-copy\n",
      "  \"\"\"Entry point for launching an IPython kernel.\n"
     ]
    }
   ],
   "source": [
    "newdf.drop('platform_name',axis=1,inplace=True)"
   ]
  },
  {
   "cell_type": "code",
   "execution_count": 66,
   "metadata": {
    "collapsed": true
   },
   "outputs": [],
   "source": [
    "df_train = df_train.merge(newdf,how='left',on=['genre_id','album_id'])"
   ]
  },
  {
   "cell_type": "code",
   "execution_count": 67,
   "metadata": {},
   "outputs": [
    {
     "data": {
      "text/plain": [
       "genre_id                       0\n",
       "ts_listen                      0\n",
       "media_id                       0\n",
       "album_id                       0\n",
       "context_type                   0\n",
       "release_date                   0\n",
       "platform_name                  0\n",
       "platform_family                0\n",
       "media_duration                 0\n",
       "listen_type                    0\n",
       "user_gender                    0\n",
       "user_id                        0\n",
       "artist_id                      0\n",
       "user_age                       0\n",
       "is_listened                    0\n",
       "ID                             0\n",
       "time_of_day                    0\n",
       "user_genre_count               0\n",
       "user_context_frequency         0\n",
       "flow_break_frequency           0\n",
       "hit                            0\n",
       "hit_album_in_genre        217380\n",
       "dtype: int64"
      ]
     },
     "execution_count": 67,
     "metadata": {},
     "output_type": "execute_result"
    }
   ],
   "source": [
    "df_train.isnull().sum()"
   ]
  },
  {
   "cell_type": "code",
   "execution_count": 68,
   "metadata": {
    "collapsed": true
   },
   "outputs": [],
   "source": [
    "df_train.hit_album_in_genre.fillna(False,inplace=True)"
   ]
  },
  {
   "cell_type": "code",
   "execution_count": 69,
   "metadata": {
    "collapsed": true
   },
   "outputs": [],
   "source": [
    "df_cv = df_cv.merge(newdf,how='left',on=['genre_id','album_id'])"
   ]
  },
  {
   "cell_type": "code",
   "execution_count": 70,
   "metadata": {},
   "outputs": [
    {
     "data": {
      "text/plain": [
       "genre_id                       0\n",
       "ts_listen                      0\n",
       "media_id                       0\n",
       "album_id                       0\n",
       "context_type                   0\n",
       "release_date                   0\n",
       "platform_name                  0\n",
       "platform_family                0\n",
       "media_duration                 0\n",
       "listen_type                    0\n",
       "user_gender                    0\n",
       "user_id                        0\n",
       "artist_id                      0\n",
       "user_age                       0\n",
       "is_listened                    0\n",
       "ID                             0\n",
       "time_of_day                    0\n",
       "user_genre_count               0\n",
       "user_context_frequency         0\n",
       "flow_break_frequency           0\n",
       "hit                            0\n",
       "hit_album_in_genre        189362\n",
       "dtype: int64"
      ]
     },
     "execution_count": 70,
     "metadata": {},
     "output_type": "execute_result"
    }
   ],
   "source": [
    "df_cv.isnull().sum()"
   ]
  },
  {
   "cell_type": "code",
   "execution_count": 71,
   "metadata": {
    "collapsed": true
   },
   "outputs": [],
   "source": [
    "df_cv.hit_album_in_genre.fillna(False,inplace=True)"
   ]
  },
  {
   "cell_type": "code",
   "execution_count": 72,
   "metadata": {
    "collapsed": true
   },
   "outputs": [],
   "source": [
    "test = test.merge(newdf,how='left',on=['genre_id','album_id'])"
   ]
  },
  {
   "cell_type": "code",
   "execution_count": 73,
   "metadata": {},
   "outputs": [
    {
     "data": {
      "text/plain": [
       "genre_id                       0\n",
       "ts_listen                      0\n",
       "media_id                       0\n",
       "album_id                       0\n",
       "context_type                   0\n",
       "release_date                   0\n",
       "platform_name                  0\n",
       "platform_family                0\n",
       "media_duration                 0\n",
       "listen_type                    0\n",
       "user_gender                    0\n",
       "user_id                        0\n",
       "artist_id                      0\n",
       "user_age                       0\n",
       "ID                             0\n",
       "time_of_day                    0\n",
       "user_genre_count               0\n",
       "user_context_frequency         0\n",
       "flow_break_frequency           0\n",
       "hit                            0\n",
       "hit_album_in_genre        216430\n",
       "dtype: int64"
      ]
     },
     "execution_count": 73,
     "metadata": {},
     "output_type": "execute_result"
    }
   ],
   "source": [
    "test.isnull().sum()"
   ]
  },
  {
   "cell_type": "code",
   "execution_count": 74,
   "metadata": {
    "collapsed": true
   },
   "outputs": [],
   "source": [
    "test.hit_album_in_genre.fillna(False,inplace=True)"
   ]
  },
  {
   "cell_type": "markdown",
   "metadata": {},
   "source": [
    "# implementation for the day"
   ]
  },
  {
   "cell_type": "code",
   "execution_count": 75,
   "metadata": {},
   "outputs": [
    {
     "data": {
      "text/plain": [
       "Index(['genre_id', 'ts_listen', 'media_id', 'album_id', 'context_type',\n",
       "       'release_date', 'platform_name', 'platform_family', 'media_duration',\n",
       "       'listen_type', 'user_gender', 'user_id', 'artist_id', 'user_age',\n",
       "       'is_listened', 'ID', 'time_of_day', 'user_genre_count',\n",
       "       'user_context_frequency', 'flow_break_frequency', 'hit',\n",
       "       'hit_album_in_genre'],\n",
       "      dtype='object')"
      ]
     },
     "execution_count": 75,
     "metadata": {},
     "output_type": "execute_result"
    }
   ],
   "source": [
    "df_train.columns"
   ]
  },
  {
   "cell_type": "code",
   "execution_count": 79,
   "metadata": {
    "collapsed": true
   },
   "outputs": [],
   "source": [
    "no_noise_train = df_train.drop(['ts_listen','release_date','platform_name','platform_family','user_context_frequency','time_of_day','hit','user_genre_count','hit_album_in_genre'],axis=1)"
   ]
  },
  {
   "cell_type": "code",
   "execution_count": 80,
   "metadata": {},
   "outputs": [
    {
     "data": {
      "text/plain": [
       "(567594, 13)"
      ]
     },
     "execution_count": 80,
     "metadata": {},
     "output_type": "execute_result"
    }
   ],
   "source": [
    "no_noise_train.shape"
   ]
  },
  {
   "cell_type": "code",
   "execution_count": 81,
   "metadata": {
    "collapsed": true
   },
   "outputs": [],
   "source": [
    "no_noise_cv = df_cv.drop(['ts_listen','release_date','platform_name','platform_family','user_context_frequency','time_of_day','hit','user_genre_count','hit_album_in_genre'],axis=1)"
   ]
  },
  {
   "cell_type": "code",
   "execution_count": 82,
   "metadata": {},
   "outputs": [
    {
     "data": {
      "text/plain": [
       "(486314, 13)"
      ]
     },
     "execution_count": 82,
     "metadata": {},
     "output_type": "execute_result"
    }
   ],
   "source": [
    "no_noise_cv.shape"
   ]
  },
  {
   "cell_type": "code",
   "execution_count": 83,
   "metadata": {
    "collapsed": true
   },
   "outputs": [],
   "source": [
    "no_noise_test = test.drop(['ts_listen','release_date','platform_name','platform_family','user_context_frequency','time_of_day','hit','user_genre_count','hit_album_in_genre'],axis=1)"
   ]
  },
  {
   "cell_type": "code",
   "execution_count": 84,
   "metadata": {},
   "outputs": [
    {
     "data": {
      "text/plain": [
       "(554932, 12)"
      ]
     },
     "execution_count": 84,
     "metadata": {},
     "output_type": "execute_result"
    }
   ],
   "source": [
    "no_noise_test.shape"
   ]
  },
  {
   "cell_type": "code",
   "execution_count": 85,
   "metadata": {},
   "outputs": [
    {
     "ename": "ValueError",
     "evalue": "labels ['hit_album_in_genre'] not contained in axis",
     "output_type": "error",
     "traceback": [
      "\u001b[1;31m---------------------------------------------------------------------------\u001b[0m",
      "\u001b[1;31mValueError\u001b[0m                                Traceback (most recent call last)",
      "\u001b[1;32m<ipython-input-85-e17ff12a993c>\u001b[0m in \u001b[0;36m<module>\u001b[1;34m()\u001b[0m\n\u001b[1;32m----> 1\u001b[1;33m \u001b[0mno_noise_cv\u001b[0m \u001b[1;33m=\u001b[0m \u001b[0mpd\u001b[0m\u001b[1;33m.\u001b[0m\u001b[0mget_dummies\u001b[0m\u001b[1;33m(\u001b[0m\u001b[0mno_noise_cv\u001b[0m\u001b[1;33m,\u001b[0m\u001b[0mcolumns\u001b[0m\u001b[1;33m=\u001b[0m\u001b[1;33m[\u001b[0m\u001b[1;34m'hit_album_in_genre'\u001b[0m\u001b[1;33m]\u001b[0m\u001b[1;33m,\u001b[0m\u001b[0mdrop_first\u001b[0m\u001b[1;33m=\u001b[0m\u001b[1;32mTrue\u001b[0m\u001b[1;33m)\u001b[0m\u001b[1;33m\u001b[0m\u001b[0m\n\u001b[0m",
      "\u001b[1;32mC:\\Users\\HP\\Anaconda3\\lib\\site-packages\\pandas\\core\\reshape\\reshape.py\u001b[0m in \u001b[0;36mget_dummies\u001b[1;34m(data, prefix, prefix_sep, dummy_na, columns, sparse, drop_first)\u001b[0m\n\u001b[0;32m   1200\u001b[0m             \u001b[0mwith_dummies\u001b[0m \u001b[1;33m=\u001b[0m \u001b[1;33m[\u001b[0m\u001b[1;33m]\u001b[0m\u001b[1;33m\u001b[0m\u001b[0m\n\u001b[0;32m   1201\u001b[0m         \u001b[1;32melse\u001b[0m\u001b[1;33m:\u001b[0m\u001b[1;33m\u001b[0m\u001b[0m\n\u001b[1;32m-> 1202\u001b[1;33m             \u001b[0mwith_dummies\u001b[0m \u001b[1;33m=\u001b[0m \u001b[1;33m[\u001b[0m\u001b[0mdata\u001b[0m\u001b[1;33m.\u001b[0m\u001b[0mdrop\u001b[0m\u001b[1;33m(\u001b[0m\u001b[0mcolumns_to_encode\u001b[0m\u001b[1;33m,\u001b[0m \u001b[0maxis\u001b[0m\u001b[1;33m=\u001b[0m\u001b[1;36m1\u001b[0m\u001b[1;33m)\u001b[0m\u001b[1;33m]\u001b[0m\u001b[1;33m\u001b[0m\u001b[0m\n\u001b[0m\u001b[0;32m   1203\u001b[0m \u001b[1;33m\u001b[0m\u001b[0m\n\u001b[0;32m   1204\u001b[0m         \u001b[1;32mfor\u001b[0m \u001b[1;33m(\u001b[0m\u001b[0mcol\u001b[0m\u001b[1;33m,\u001b[0m \u001b[0mpre\u001b[0m\u001b[1;33m,\u001b[0m \u001b[0msep\u001b[0m\u001b[1;33m)\u001b[0m \u001b[1;32min\u001b[0m \u001b[0mzip\u001b[0m\u001b[1;33m(\u001b[0m\u001b[0mcolumns_to_encode\u001b[0m\u001b[1;33m,\u001b[0m \u001b[0mprefix\u001b[0m\u001b[1;33m,\u001b[0m \u001b[0mprefix_sep\u001b[0m\u001b[1;33m)\u001b[0m\u001b[1;33m:\u001b[0m\u001b[1;33m\u001b[0m\u001b[0m\n",
      "\u001b[1;32mC:\\Users\\HP\\Anaconda3\\lib\\site-packages\\pandas\\core\\generic.py\u001b[0m in \u001b[0;36mdrop\u001b[1;34m(self, labels, axis, level, inplace, errors)\u001b[0m\n\u001b[0;32m   2048\u001b[0m                 \u001b[0mnew_axis\u001b[0m \u001b[1;33m=\u001b[0m \u001b[0maxis\u001b[0m\u001b[1;33m.\u001b[0m\u001b[0mdrop\u001b[0m\u001b[1;33m(\u001b[0m\u001b[0mlabels\u001b[0m\u001b[1;33m,\u001b[0m \u001b[0mlevel\u001b[0m\u001b[1;33m=\u001b[0m\u001b[0mlevel\u001b[0m\u001b[1;33m,\u001b[0m \u001b[0merrors\u001b[0m\u001b[1;33m=\u001b[0m\u001b[0merrors\u001b[0m\u001b[1;33m)\u001b[0m\u001b[1;33m\u001b[0m\u001b[0m\n\u001b[0;32m   2049\u001b[0m             \u001b[1;32melse\u001b[0m\u001b[1;33m:\u001b[0m\u001b[1;33m\u001b[0m\u001b[0m\n\u001b[1;32m-> 2050\u001b[1;33m                 \u001b[0mnew_axis\u001b[0m \u001b[1;33m=\u001b[0m \u001b[0maxis\u001b[0m\u001b[1;33m.\u001b[0m\u001b[0mdrop\u001b[0m\u001b[1;33m(\u001b[0m\u001b[0mlabels\u001b[0m\u001b[1;33m,\u001b[0m \u001b[0merrors\u001b[0m\u001b[1;33m=\u001b[0m\u001b[0merrors\u001b[0m\u001b[1;33m)\u001b[0m\u001b[1;33m\u001b[0m\u001b[0m\n\u001b[0m\u001b[0;32m   2051\u001b[0m             \u001b[0mdropped\u001b[0m \u001b[1;33m=\u001b[0m \u001b[0mself\u001b[0m\u001b[1;33m.\u001b[0m\u001b[0mreindex\u001b[0m\u001b[1;33m(\u001b[0m\u001b[1;33m**\u001b[0m\u001b[1;33m{\u001b[0m\u001b[0maxis_name\u001b[0m\u001b[1;33m:\u001b[0m \u001b[0mnew_axis\u001b[0m\u001b[1;33m}\u001b[0m\u001b[1;33m)\u001b[0m\u001b[1;33m\u001b[0m\u001b[0m\n\u001b[0;32m   2052\u001b[0m             \u001b[1;32mtry\u001b[0m\u001b[1;33m:\u001b[0m\u001b[1;33m\u001b[0m\u001b[0m\n",
      "\u001b[1;32mC:\\Users\\HP\\Anaconda3\\lib\\site-packages\\pandas\\core\\indexes\\base.py\u001b[0m in \u001b[0;36mdrop\u001b[1;34m(self, labels, errors)\u001b[0m\n\u001b[0;32m   3573\u001b[0m             \u001b[1;32mif\u001b[0m \u001b[0merrors\u001b[0m \u001b[1;33m!=\u001b[0m \u001b[1;34m'ignore'\u001b[0m\u001b[1;33m:\u001b[0m\u001b[1;33m\u001b[0m\u001b[0m\n\u001b[0;32m   3574\u001b[0m                 raise ValueError('labels %s not contained in axis' %\n\u001b[1;32m-> 3575\u001b[1;33m                                  labels[mask])\n\u001b[0m\u001b[0;32m   3576\u001b[0m             \u001b[0mindexer\u001b[0m \u001b[1;33m=\u001b[0m \u001b[0mindexer\u001b[0m\u001b[1;33m[\u001b[0m\u001b[1;33m~\u001b[0m\u001b[0mmask\u001b[0m\u001b[1;33m]\u001b[0m\u001b[1;33m\u001b[0m\u001b[0m\n\u001b[0;32m   3577\u001b[0m         \u001b[1;32mreturn\u001b[0m \u001b[0mself\u001b[0m\u001b[1;33m.\u001b[0m\u001b[0mdelete\u001b[0m\u001b[1;33m(\u001b[0m\u001b[0mindexer\u001b[0m\u001b[1;33m)\u001b[0m\u001b[1;33m\u001b[0m\u001b[0m\n",
      "\u001b[1;31mValueError\u001b[0m: labels ['hit_album_in_genre'] not contained in axis"
     ]
    }
   ],
   "source": [
    "no_noise_cv = pd.get_dummies(no_noise_cv,columns=['hit_album_in_genre'],drop_first=True)\n"
   ]
  },
  {
   "cell_type": "code",
   "execution_count": 331,
   "metadata": {
    "collapsed": true
   },
   "outputs": [],
   "source": [
    "no_noise_train = pd.get_dummies(no_noise_train,columns=['hit_album_in_genre'],drop_first=True)"
   ]
  },
  {
   "cell_type": "code",
   "execution_count": 332,
   "metadata": {
    "collapsed": true
   },
   "outputs": [],
   "source": [
    "no_noise_test = pd.get_dummies(no_noise_test,columns=['hit_album_in_genre'],drop_first=True)"
   ]
  },
  {
   "cell_type": "code",
   "execution_count": 217,
   "metadata": {
    "collapsed": true
   },
   "outputs": [],
   "source": [
    "no_noise_test.drop('hit_False',axis=1,inplace=True)"
   ]
  },
  {
   "cell_type": "code",
   "execution_count": 417,
   "metadata": {},
   "outputs": [
    {
     "data": {
      "text/plain": [
       "(554932, 13)"
      ]
     },
     "execution_count": 417,
     "metadata": {},
     "output_type": "execute_result"
    }
   ],
   "source": [
    "no_noise_test.shape"
   ]
  },
  {
   "cell_type": "code",
   "execution_count": 418,
   "metadata": {},
   "outputs": [
    {
     "data": {
      "text/plain": [
       "(486314, 14)"
      ]
     },
     "execution_count": 418,
     "metadata": {},
     "output_type": "execute_result"
    }
   ],
   "source": [
    "no_noise_cv.shape"
   ]
  },
  {
   "cell_type": "code",
   "execution_count": 419,
   "metadata": {},
   "outputs": [
    {
     "data": {
      "text/plain": [
       "(567594, 14)"
      ]
     },
     "execution_count": 419,
     "metadata": {},
     "output_type": "execute_result"
    }
   ],
   "source": [
    "no_noise_train.shape"
   ]
  },
  {
   "cell_type": "markdown",
   "metadata": {},
   "source": [
    "# Clean implementation"
   ]
  },
  {
   "cell_type": "code",
   "execution_count": 204,
   "metadata": {
    "collapsed": true
   },
   "outputs": [],
   "source": [
    "import sklearn as skl"
   ]
  },
  {
   "cell_type": "code",
   "execution_count": 7,
   "metadata": {
    "collapsed": true
   },
   "outputs": [],
   "source": [
    "cv_x = df_cv_final.drop('is_listened',axis=1)"
   ]
  },
  {
   "cell_type": "code",
   "execution_count": 8,
   "metadata": {
    "collapsed": true
   },
   "outputs": [],
   "source": [
    "cv_y = df_cv_final['is_listened']"
   ]
  },
  {
   "cell_type": "code",
   "execution_count": 9,
   "metadata": {
    "collapsed": true
   },
   "outputs": [],
   "source": [
    "train_x = df_train_final.drop('is_listened',axis=1)"
   ]
  },
  {
   "cell_type": "code",
   "execution_count": 10,
   "metadata": {
    "collapsed": true
   },
   "outputs": [],
   "source": [
    "train_y = df_train_final['is_listened']"
   ]
  },
  {
   "cell_type": "markdown",
   "metadata": {},
   "source": [
    "### random forest"
   ]
  },
  {
   "cell_type": "code",
   "execution_count": 11,
   "metadata": {
    "collapsed": true
   },
   "outputs": [],
   "source": [
    "from sklearn.ensemble import RandomForestClassifier"
   ]
  },
  {
   "cell_type": "code",
   "execution_count": 27,
   "metadata": {},
   "outputs": [
    {
     "data": {
      "text/plain": [
       "list"
      ]
     },
     "execution_count": 27,
     "metadata": {},
     "output_type": "execute_result"
    }
   ],
   "source": []
  },
  {
   "cell_type": "code",
   "execution_count": 28,
   "metadata": {},
   "outputs": [
    {
     "name": "stdout",
     "output_type": "stream",
     "text": [
      "N_EST: %d, depth: %d, loss: %f\n"
     ]
    },
    {
     "ename": "TypeError",
     "evalue": "unsupported operand type(s) for %: 'NoneType' and 'tuple'",
     "output_type": "error",
     "traceback": [
      "\u001b[1;31m---------------------------------------------------------------------------\u001b[0m",
      "\u001b[1;31mTypeError\u001b[0m                                 Traceback (most recent call last)",
      "\u001b[1;32m<ipython-input-28-756132849ad8>\u001b[0m in \u001b[0;36m<module>\u001b[1;34m()\u001b[0m\n\u001b[0;32m      4\u001b[0m         \u001b[0mmodel_pt\u001b[0m\u001b[1;33m.\u001b[0m\u001b[0mfit\u001b[0m\u001b[1;33m(\u001b[0m\u001b[0mtrain_x\u001b[0m\u001b[1;33m,\u001b[0m\u001b[0mtrain_y\u001b[0m\u001b[1;33m)\u001b[0m\u001b[1;33m\u001b[0m\u001b[0m\n\u001b[0;32m      5\u001b[0m         \u001b[0mlogloss\u001b[0m \u001b[1;33m=\u001b[0m \u001b[0mlog_loss\u001b[0m\u001b[1;33m(\u001b[0m\u001b[0mcv_y\u001b[0m\u001b[1;33m,\u001b[0m\u001b[0mmodel_pt\u001b[0m\u001b[1;33m.\u001b[0m\u001b[0mpredict_proba\u001b[0m\u001b[1;33m(\u001b[0m\u001b[0mcv_x\u001b[0m\u001b[1;33m)\u001b[0m\u001b[1;33m)\u001b[0m\u001b[1;33m\u001b[0m\u001b[0m\n\u001b[1;32m----> 6\u001b[1;33m         \u001b[0mprint\u001b[0m \u001b[1;33m(\u001b[0m\u001b[1;34m\"N_EST: %d, depth: %d, loss: %f\"\u001b[0m\u001b[1;33m)\u001b[0m\u001b[1;33m%\u001b[0m\u001b[1;33m(\u001b[0m\u001b[0mntree\u001b[0m\u001b[1;33m,\u001b[0m\u001b[0mdepth\u001b[0m\u001b[1;33m,\u001b[0m\u001b[0mlogloss\u001b[0m\u001b[1;33m)\u001b[0m\u001b[1;33m\u001b[0m\u001b[0m\n\u001b[0m",
      "\u001b[1;31mTypeError\u001b[0m: unsupported operand type(s) for %: 'NoneType' and 'tuple'"
     ]
    }
   ],
   "source": [
    "for ntree in [20,30,40,60]:\n",
    "    for depth in [2,4,6,8,10]:\n",
    "        model_pt = RandomForestClassifier(n_estimators=ntree,max_depth=depth)\n",
    "        model_pt.fit(train_x,train_y)\n",
    "        logloss = log_loss(cv_y,model_pt.predict_proba(cv_x))\n",
    "        print (\"N_EST: %d, depth: %d, loss: %f\")%(ntree,depth,logloss)"
   ]
  },
  {
   "cell_type": "code",
   "execution_count": 57,
   "metadata": {
    "collapsed": true
   },
   "outputs": [],
   "source": [
    "model_rf = RandomForestClassifier(n_estimators=40,max_depth=14,min_samples_split=4) "
   ]
  },
  {
   "cell_type": "code",
   "execution_count": 58,
   "metadata": {},
   "outputs": [
    {
     "data": {
      "text/plain": [
       "RandomForestClassifier(bootstrap=True, class_weight=None, criterion='gini',\n",
       "            max_depth=14, max_features='auto', max_leaf_nodes=None,\n",
       "            min_impurity_split=1e-07, min_samples_leaf=1,\n",
       "            min_samples_split=4, min_weight_fraction_leaf=0.0,\n",
       "            n_estimators=40, n_jobs=1, oob_score=False, random_state=None,\n",
       "            verbose=0, warm_start=False)"
      ]
     },
     "execution_count": 58,
     "metadata": {},
     "output_type": "execute_result"
    }
   ],
   "source": [
    "model_rf.fit(train_x,train_y)"
   ]
  },
  {
   "cell_type": "markdown",
   "metadata": {},
   "source": [
    "### saving predictions"
   ]
  },
  {
   "cell_type": "code",
   "execution_count": 59,
   "metadata": {
    "collapsed": true
   },
   "outputs": [],
   "source": [
    "from sklearn.metrics import accuracy_score\n",
    "from sklearn.metrics import log_loss"
   ]
  },
  {
   "cell_type": "code",
   "execution_count": 104,
   "metadata": {},
   "outputs": [
    {
     "data": {
      "text/plain": [
       "1.0252944680666032"
      ]
     },
     "execution_count": 104,
     "metadata": {},
     "output_type": "execute_result"
    }
   ],
   "source": [
    "log_loss(cv_y,model_etc.predict_proba(cv_x))"
   ]
  },
  {
   "cell_type": "code",
   "execution_count": 105,
   "metadata": {},
   "outputs": [
    {
     "data": {
      "text/plain": [
       "9.9920072216264108e-16"
      ]
     },
     "execution_count": 105,
     "metadata": {},
     "output_type": "execute_result"
    }
   ],
   "source": [
    "log_loss(train_y,model_etc.predict_proba(train_x))"
   ]
  },
  {
   "cell_type": "code",
   "execution_count": 106,
   "metadata": {
    "collapsed": true
   },
   "outputs": [],
   "source": [
    "prediction = model_etc.predict_proba(test_final)\n",
    "ID = test['ID']\n",
    "list1 = []\n",
    "for elements in prediction:\n",
    "    list1.append(elements[1])"
   ]
  },
  {
   "cell_type": "code",
   "execution_count": 107,
   "metadata": {
    "collapsed": true
   },
   "outputs": [],
   "source": [
    "list1 = np.array(list1)"
   ]
  },
  {
   "cell_type": "code",
   "execution_count": 108,
   "metadata": {
    "collapsed": true
   },
   "outputs": [],
   "source": [
    "submission_basicmodel = pd.DataFrame(ID)\n",
    "submission_basicmodel['is_listened'] = list1\n"
   ]
  },
  {
   "cell_type": "code",
   "execution_count": 109,
   "metadata": {
    "collapsed": true
   },
   "outputs": [],
   "source": [
    "submission_basicmodel.to_csv('C:/Users/HP/Desktop/intern hackathon/submission_on_final_dataframe_extra_trees_classifier.csv')"
   ]
  },
  {
   "cell_type": "markdown",
   "metadata": {
    "collapsed": true
   },
   "source": [
    "## Logistic Regression"
   ]
  },
  {
   "cell_type": "code",
   "execution_count": 64,
   "metadata": {},
   "outputs": [
    {
     "data": {
      "text/plain": [
       "LogisticRegression(C=1.0, class_weight=None, dual=False, fit_intercept=True,\n",
       "          intercept_scaling=1, max_iter=100, multi_class='ovr', n_jobs=1,\n",
       "          penalty='l2', random_state=None, solver='liblinear', tol=0.0001,\n",
       "          verbose=0, warm_start=False)"
      ]
     },
     "execution_count": 64,
     "metadata": {},
     "output_type": "execute_result"
    }
   ],
   "source": [
    "from sklearn.linear_model import LogisticRegression\n",
    "model_lr = LogisticRegression()\n",
    "model_lr.fit(train_x,train_y)\n"
   ]
  },
  {
   "cell_type": "markdown",
   "metadata": {},
   "source": [
    "# Naive Bayes"
   ]
  },
  {
   "cell_type": "code",
   "execution_count": 67,
   "metadata": {},
   "outputs": [
    {
     "data": {
      "text/plain": [
       "GaussianNB(priors=None)"
      ]
     },
     "execution_count": 67,
     "metadata": {},
     "output_type": "execute_result"
    }
   ],
   "source": [
    "from sklearn.naive_bayes import GaussianNB\n",
    "model_nb = GaussianNB()\n",
    "model_nb.fit(train_x,train_y)"
   ]
  },
  {
   "cell_type": "markdown",
   "metadata": {},
   "source": [
    "# XGBoost"
   ]
  },
  {
   "cell_type": "code",
   "execution_count": 86,
   "metadata": {},
   "outputs": [
    {
     "data": {
      "text/plain": [
       "GradientBoostingClassifier(criterion='friedman_mse', init=None,\n",
       "              learning_rate=0.1, loss='deviance', max_depth=3,\n",
       "              max_features=None, max_leaf_nodes=None,\n",
       "              min_impurity_split=1e-07, min_samples_leaf=1,\n",
       "              min_samples_split=2, min_weight_fraction_leaf=0.0,\n",
       "              n_estimators=100, presort='auto', random_state=None,\n",
       "              subsample=1.0, verbose=0, warm_start=False)"
      ]
     },
     "execution_count": 86,
     "metadata": {},
     "output_type": "execute_result"
    }
   ],
   "source": [
    "from sklearn.ensemble import GradientBoostingClassifier\n",
    "model_xgb = GradientBoostingClassifier()\n",
    "model_xgb.fit(train_x,train_y)"
   ]
  },
  {
   "cell_type": "markdown",
   "metadata": {},
   "source": [
    "# Extra tree gini\n"
   ]
  },
  {
   "cell_type": "code",
   "execution_count": 103,
   "metadata": {},
   "outputs": [
    {
     "data": {
      "text/plain": [
       "ExtraTreesClassifier(bootstrap=False, class_weight=None, criterion='gini',\n",
       "           max_depth=None, max_features='auto', max_leaf_nodes=None,\n",
       "           min_impurity_split=1e-07, min_samples_leaf=1,\n",
       "           min_samples_split=2, min_weight_fraction_leaf=0.0,\n",
       "           n_estimators=10, n_jobs=1, oob_score=False, random_state=None,\n",
       "           verbose=0, warm_start=False)"
      ]
     },
     "execution_count": 103,
     "metadata": {},
     "output_type": "execute_result"
    }
   ],
   "source": [
    "from sklearn.ensemble import ExtraTreesClassifier\n",
    "model_etc = ExtraTreesClassifier()\n",
    "model_etc.fit(train_x,train_y)"
   ]
  },
  {
   "cell_type": "markdown",
   "metadata": {},
   "source": [
    "# implementation ends here\n",
    "# how_old feature"
   ]
  },
  {
   "cell_type": "code",
   "execution_count": 130,
   "metadata": {
    "collapsed": true
   },
   "outputs": [],
   "source": [
    "listen_year = pd.to_datetime(df_train.ts_listen).dt.year\n",
    "listen_month = pd.to_datetime(df_train.ts_listen).dt.month\n",
    "release_year = pd.to_datetime(df_train.release_date).dt.year\n",
    "release_month = pd.to_datetime(df_train.release_date).dt.month\n",
    "how_old = (listen_year - release_year)*12 + (listen_month-release_month)\n",
    "df_train['how_old'] = how_old\n"
   ]
  },
  {
   "cell_type": "code",
   "execution_count": 133,
   "metadata": {
    "collapsed": true
   },
   "outputs": [],
   "source": [
    "listen_year = pd.to_datetime(df_cv.ts_listen).dt.year\n",
    "listen_month = pd.to_datetime(df_cv.ts_listen).dt.month\n",
    "release_year = pd.to_datetime(df_cv.release_date).dt.year\n",
    "release_month = pd.to_datetime(df_cv.release_date).dt.month\n",
    "how_old = (listen_year - release_year)*12 + (listen_month-release_month)\n",
    "df_cv['how_old'] = how_old\n"
   ]
  },
  {
   "cell_type": "code",
   "execution_count": 134,
   "metadata": {
    "collapsed": true
   },
   "outputs": [],
   "source": [
    "listen_year = pd.to_datetime(test.ts_listen).dt.year\n",
    "listen_month = pd.to_datetime(test.ts_listen).dt.month\n",
    "release_year = pd.to_datetime(test.release_date).dt.year\n",
    "release_month = pd.to_datetime(test.release_date).dt.month\n",
    "how_old = (listen_year - release_year)*12 + (listen_month-release_month)\n",
    "test['how_old'] = how_old\n"
   ]
  },
  {
   "cell_type": "markdown",
   "metadata": {},
   "source": [
    "# building final data frame"
   ]
  },
  {
   "cell_type": "code",
   "execution_count": 139,
   "metadata": {},
   "outputs": [
    {
     "data": {
      "text/plain": [
       "Index(['genre_id', 'ts_listen', 'media_id', 'album_id', 'context_type',\n",
       "       'release_date', 'platform_name', 'platform_family', 'media_duration',\n",
       "       'listen_type', 'user_gender', 'user_id', 'artist_id', 'user_age',\n",
       "       'is_listened', 'ID', 'time_of_day', 'user_genre_count',\n",
       "       'user_context_frequency', 'flow_break_frequency', 'hit',\n",
       "       'hit_album_in_genre', 'fresh', 'how_old'],\n",
       "      dtype='object')"
      ]
     },
     "execution_count": 139,
     "metadata": {},
     "output_type": "execute_result"
    }
   ],
   "source": [
    "df_train.columns"
   ]
  },
  {
   "cell_type": "code",
   "execution_count": 386,
   "metadata": {
    "collapsed": true
   },
   "outputs": [],
   "source": [
    "df_train_final = df_train.drop(['ts_listen','release_date','ID','fresh','hit','how_old'],axis=1)"
   ]
  },
  {
   "cell_type": "code",
   "execution_count": 387,
   "metadata": {
    "collapsed": true
   },
   "outputs": [],
   "source": [
    "df_cv_final = df_cv.drop(['ts_listen','ID','release_date','fresh','hit','how_old'],axis=1)"
   ]
  },
  {
   "cell_type": "code",
   "execution_count": 388,
   "metadata": {
    "collapsed": true
   },
   "outputs": [],
   "source": [
    "test_final = test.drop(['ts_listen','ID','release_date','fresh','hit','how_old'],axis=1)"
   ]
  },
  {
   "cell_type": "code",
   "execution_count": 389,
   "metadata": {
    "collapsed": true
   },
   "outputs": [],
   "source": [
    "df_train_final = pd.get_dummies(df_train_final,columns=['time_of_day'],drop_first=True)"
   ]
  },
  {
   "cell_type": "code",
   "execution_count": 390,
   "metadata": {
    "collapsed": true
   },
   "outputs": [],
   "source": [
    "df_cv_final = pd.get_dummies(df_cv_final,columns=['time_of_day'],drop_first=True)"
   ]
  },
  {
   "cell_type": "code",
   "execution_count": 391,
   "metadata": {
    "collapsed": true
   },
   "outputs": [],
   "source": [
    "test_final = pd.get_dummies(test_final,columns=['time_of_day'],drop_first=True)"
   ]
  },
  {
   "cell_type": "code",
   "execution_count": 392,
   "metadata": {
    "collapsed": true
   },
   "outputs": [],
   "source": [
    "df_train_final.to_csv('C:/Users/HP/Desktop/intern hackathon/final_training_data.csv')"
   ]
  },
  {
   "cell_type": "code",
   "execution_count": 393,
   "metadata": {
    "collapsed": true
   },
   "outputs": [],
   "source": [
    "df_cv_final.to_csv('C:/Users/HP/Desktop/intern hackathon/final_cv_data.csv')"
   ]
  },
  {
   "cell_type": "code",
   "execution_count": 394,
   "metadata": {
    "collapsed": true
   },
   "outputs": [],
   "source": [
    "test_final.to_csv('C:/Users/HP/Desktop/intern hackathon/final_test.csv')"
   ]
  },
  {
   "cell_type": "code",
   "execution_count": null,
   "metadata": {
    "collapsed": true
   },
   "outputs": [],
   "source": []
  },
  {
   "cell_type": "code",
   "execution_count": 4,
   "metadata": {
    "collapsed": true
   },
   "outputs": [],
   "source": [
    "df_train_final = pd.read_csv(\"C:/Users/HP/Desktop/intern hackathon/final_training_data.csv\")"
   ]
  },
  {
   "cell_type": "code",
   "execution_count": 5,
   "metadata": {
    "collapsed": true
   },
   "outputs": [],
   "source": [
    "df_cv_final = pd.read_csv(\"C:/Users/HP/Desktop/intern hackathon/final_cv_data.csv\")"
   ]
  },
  {
   "cell_type": "code",
   "execution_count": 6,
   "metadata": {
    "collapsed": true
   },
   "outputs": [],
   "source": [
    "test_final = pd.read_csv(\"C:/Users/HP/Desktop/intern hackathon/final_test.csv\")"
   ]
  },
  {
   "cell_type": "code",
   "execution_count": null,
   "metadata": {
    "collapsed": true
   },
   "outputs": [],
   "source": []
  },
  {
   "cell_type": "code",
   "execution_count": null,
   "metadata": {
    "collapsed": true
   },
   "outputs": [],
   "source": []
  },
  {
   "cell_type": "code",
   "execution_count": null,
   "metadata": {
    "collapsed": true
   },
   "outputs": [],
   "source": []
  }
 ],
 "metadata": {
  "kernelspec": {
   "display_name": "Python 3",
   "language": "python",
   "name": "python3"
  },
  "language_info": {
   "codemirror_mode": {
    "name": "ipython",
    "version": 3
   },
   "file_extension": ".py",
   "mimetype": "text/x-python",
   "name": "python",
   "nbconvert_exporter": "python",
   "pygments_lexer": "ipython3",
   "version": "3.6.1"
  }
 },
 "nbformat": 4,
 "nbformat_minor": 2
}
